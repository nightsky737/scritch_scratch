{
 "cells": [
  {
   "cell_type": "markdown",
   "id": "98840bcf-3310-431e-8728-242bb2786b30",
   "metadata": {},
   "source": [
    "# I go through the jax tutorial and attempt to understand 10% of what goes on"
   ]
  },
  {
   "cell_type": "code",
   "execution_count": 1,
   "id": "c992cbb4-3db8-4812-b1c3-1652b5e88ab2",
   "metadata": {},
   "outputs": [],
   "source": [
    "import jax.numpy as jnp\n",
    "from jax import grad\n",
    "import jax"
   ]
  },
  {
   "cell_type": "markdown",
   "id": "aba27783-f449-41a8-b72b-4ae63283c136",
   "metadata": {},
   "source": [
    "# Key Concepts: \n",
    "- jax.Array Creation: Similar to np.  \n",
    "- There be some complicated stuff about devices that ill get to later\n",
    "- Tracers: Basically u run through fxn with tracer and they help jax \"compile\"/figure out the sequence of operations the fxn carries out (aka the jaxpr)\n",
    "- Pytree: Nested data structures\n",
    "- Jax has random keys that you pass in to fxns instead of np's seed"
   ]
  },
  {
   "cell_type": "markdown",
   "id": "318d1e0a-bdb9-4c80-aab5-f414c6e0e713",
   "metadata": {},
   "source": [
    "# JIT\n"
   ]
  },
  {
   "cell_type": "code",
   "execution_count": 18,
   "id": "945d50ab-6cc0-40ea-be03-3924fb3fedf6",
   "metadata": {},
   "outputs": [
    {
     "name": "stdout",
     "output_type": "stream",
     "text": [
      "{ \u001b[34m\u001b[22m\u001b[1mlambda \u001b[39m\u001b[22m\u001b[22m; a\u001b[35m:f32[]\u001b[39m b\u001b[35m:f32[]\u001b[39m. \u001b[34m\u001b[22m\u001b[1mlet\n",
      "    \u001b[39m\u001b[22m\u001b[22mc\u001b[35m:f32[]\u001b[39m = log a\n",
      "    d\u001b[35m:f32[]\u001b[39m = log b\n",
      "    e\u001b[35m:f32[]\u001b[39m = div c d\n",
      "  \u001b[34m\u001b[22m\u001b[1min \u001b[39m\u001b[22m\u001b[22m(e,) }\n"
     ]
    }
   ],
   "source": [
    "global_list = []\n",
    "\n",
    "def log2(x, k):\n",
    "  global_list.append(x)\n",
    "  ln_x = jnp.log(x)\n",
    "  ln_2 = jnp.log(k)\n",
    "  return ln_x / ln_2\n",
    "\n",
    "print(jax.make_jaxpr(log2)(3.0, 5.)) \n",
    "#Jaxpr: Low-level, compiled thing. You don't run it. It just exists (kind of like backend stuff thats still cool)\n",
    "#jaxpr made by running it on the args u give while also tracing stuff."
   ]
  },
  {
   "cell_type": "markdown",
   "id": "3f677f51-24d0-47e1-ae50-8ff7837b1ee5",
   "metadata": {},
   "source": [
    "# IMPORTANT: Does not capture anything about global_list.append(x)\n",
    "- Feature, not a bug. Basically wants fxns that depend only on their args\n",
    "- Impure fxns (fxns that read/write to a global state are bad due to the compiler doing weird things).\n",
    "- Ie it can cache the global state as 4.0, then the global gets updated to 5, but the cached value stays 4 and then your computations go no no.\n",
    "- Print is included as impure.\n",
    "- Basically just pass anything that the fxn depends on as an arg."
   ]
  },
  {
   "cell_type": "code",
   "execution_count": 23,
   "id": "ce78592e-def0-4d27-a3b8-8e0f09f0f066",
   "metadata": {},
   "outputs": [
    {
     "name": "stdout",
     "output_type": "stream",
     "text": [
      "length 2 and list [Traced<ShapedArray(float32[], weak_type=True)>with<DynamicJaxprTrace>, Traced<ShapedArray(int32[], weak_type=True)>with<DynamicJaxprTrace>] before\n",
      "length 2 and list [Traced<ShapedArray(float32[], weak_type=True)>with<DynamicJaxprTrace>, Traced<ShapedArray(int32[], weak_type=True)>with<DynamicJaxprTrace>] after\n"
     ]
    }
   ],
   "source": [
    "jitted_log2 = jax.jit(log2)\n",
    "jitted_log2(3, 5)\n",
    "print(f\"length {len(global_list)} and list {global_list} before\")\n",
    "jitted_log2(1, 5)\n",
    "#Should make global_list bigger but it DOESNT due to thing above.\n",
    "print(f\"length {len(global_list)} and list {global_list} after\")\n",
    "\n",
    "#Side note: The first time does make it run the append but that might be just due the first call including a tracing pass (which includes the global append) but subsequent ones don't\n",
    "#IN OTHER WORDS DONT READ/WRITE GLOBALS. "
   ]
  },
  {
   "cell_type": "code",
   "execution_count": null,
   "id": "b0eba368-1ebc-46cf-83f5-02fd11332dd7",
   "metadata": {},
   "outputs": [],
   "source": []
  }
 ],
 "metadata": {
  "kernelspec": {
   "display_name": "Python 3 (ipykernel)",
   "language": "python",
   "name": "python3"
  },
  "language_info": {
   "codemirror_mode": {
    "name": "ipython",
    "version": 3
   },
   "file_extension": ".py",
   "mimetype": "text/x-python",
   "name": "python",
   "nbconvert_exporter": "python",
   "pygments_lexer": "ipython3",
   "version": "3.11.9"
  }
 },
 "nbformat": 4,
 "nbformat_minor": 5
}
