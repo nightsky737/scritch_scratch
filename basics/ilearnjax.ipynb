{
 "cells": [
  {
   "cell_type": "markdown",
   "id": "98840bcf-3310-431e-8728-242bb2786b30",
   "metadata": {},
   "source": [
    "# I go through the jax tutorial and attempt to understand 10% of what goes on"
   ]
  },
  {
   "cell_type": "code",
   "execution_count": 28,
   "id": "c992cbb4-3db8-4812-b1c3-1652b5e88ab2",
   "metadata": {},
   "outputs": [],
   "source": [
    "import jax.numpy as jnp\n",
    "from jax import lax\n",
    "from jax import grad\n",
    "import jax"
   ]
  },
  {
   "cell_type": "markdown",
   "id": "aba27783-f449-41a8-b72b-4ae63283c136",
   "metadata": {},
   "source": [
    "# Key Concepts: \n",
    "- jax.Array Creation: Similar to np.  \n",
    "- There be some complicated stuff about devices that ill get to later\n",
    "- Tracers: Basically u run through fxn with tracer and they help jax \"compile\"/figure out the sequence of operations the fxn carries out (aka the jaxpr)\n",
    "- Pytree: Nested data structures\n",
    "- Jax has random keys that you pass in to fxns instead of np's seed"
   ]
  },
  {
   "cell_type": "markdown",
   "id": "318d1e0a-bdb9-4c80-aab5-f414c6e0e713",
   "metadata": {},
   "source": [
    "# JIT\n"
   ]
  },
  {
   "cell_type": "code",
   "execution_count": 18,
   "id": "945d50ab-6cc0-40ea-be03-3924fb3fedf6",
   "metadata": {},
   "outputs": [
    {
     "name": "stdout",
     "output_type": "stream",
     "text": [
      "{ \u001b[34m\u001b[22m\u001b[1mlambda \u001b[39m\u001b[22m\u001b[22m; a\u001b[35m:f32[]\u001b[39m b\u001b[35m:f32[]\u001b[39m. \u001b[34m\u001b[22m\u001b[1mlet\n",
      "    \u001b[39m\u001b[22m\u001b[22mc\u001b[35m:f32[]\u001b[39m = log a\n",
      "    d\u001b[35m:f32[]\u001b[39m = log b\n",
      "    e\u001b[35m:f32[]\u001b[39m = div c d\n",
      "  \u001b[34m\u001b[22m\u001b[1min \u001b[39m\u001b[22m\u001b[22m(e,) }\n"
     ]
    }
   ],
   "source": [
    "global_list = []\n",
    "\n",
    "def log2(x, k):\n",
    "  global_list.append(x)\n",
    "  ln_x = jnp.log(x)\n",
    "  ln_2 = jnp.log(k)\n",
    "  return ln_x / ln_2\n",
    "\n",
    "print(jax.make_jaxpr(log2)(3.0, 5.)) \n",
    "#Jaxpr: Low-level, compiled thing. You don't run it. It just exists (kind of like backend stuff thats still cool)\n",
    "#jaxpr made by running it on the args u give while also tracing stuff."
   ]
  },
  {
   "cell_type": "markdown",
   "id": "3f677f51-24d0-47e1-ae50-8ff7837b1ee5",
   "metadata": {},
   "source": [
    "# IMPORTANT: Does not capture anything about global_list.append(x)\n",
    "- Feature, not a bug. Basically wants fxns that depend only on their args\n",
    "- Impure fxns (fxns that read/write to a global state are bad due to the compiler doing weird things).\n",
    "- Ie it can cache the global state as 4.0, then the global gets updated to 5, but the cached value stays 4 and then your computations go no no.\n",
    "- Print is included as impure.\n",
    "- Basically just pass anything that the fxn depends on as an arg."
   ]
  },
  {
   "cell_type": "code",
   "execution_count": 23,
   "id": "ce78592e-def0-4d27-a3b8-8e0f09f0f066",
   "metadata": {},
   "outputs": [
    {
     "name": "stdout",
     "output_type": "stream",
     "text": [
      "length 2 and list [Traced<ShapedArray(float32[], weak_type=True)>with<DynamicJaxprTrace>, Traced<ShapedArray(int32[], weak_type=True)>with<DynamicJaxprTrace>] before\n",
      "length 2 and list [Traced<ShapedArray(float32[], weak_type=True)>with<DynamicJaxprTrace>, Traced<ShapedArray(int32[], weak_type=True)>with<DynamicJaxprTrace>] after\n"
     ]
    }
   ],
   "source": [
    "jitted_log2 = jax.jit(log2)\n",
    "jitted_log2(3, 5)\n",
    "print(f\"length {len(global_list)} and list {global_list} before\")\n",
    "jitted_log2(1, 5)\n",
    "#Should make global_list bigger but it DOESNT due to thing above.\n",
    "print(f\"length {len(global_list)} and list {global_list} after\")\n",
    "\n",
    "#Side note: The first time does make it run the append but that might be just due the first call including a tracing pass (which includes the global append) but subsequent ones don't\n",
    "#IN OTHER WORDS DONT READ/WRITE GLOBALS. "
   ]
  },
  {
   "cell_type": "markdown",
   "id": "5a1bdf0b-fd69-4617-b556-395d2b6667d9",
   "metadata": {},
   "source": [
    "# Conditionals"
   ]
  },
  {
   "cell_type": "code",
   "execution_count": 25,
   "id": "b0eba368-1ebc-46cf-83f5-02fd11332dd7",
   "metadata": {},
   "outputs": [
    {
     "data": {
      "text/plain": [
       "Array(30, dtype=int32, weak_type=True)"
      ]
     },
     "execution_count": 25,
     "metadata": {},
     "output_type": "execute_result"
    }
   ],
   "source": [
    "#so jax gets very not happy with conditionals.# While loop conditioned on x and n with a jitted body.\n",
    "#Avoid that!\n",
    "\n",
    "@jax.jit\n",
    "def loop_body(prev_i):\n",
    "  return prev_i + 1\n",
    "\n",
    "def g_inner_jitted(x, n):\n",
    "  i = 0\n",
    "  while i < n:\n",
    "    i = loop_body(i) #Here, computationally expensive loop body is jitted but the while loop\n",
    "      #is not jitted so jax doesnt have to compile a fxn conditional on something that is known only at runtime (n)\n",
    "  return x + i\n",
    "\n",
    "g_inner_jitted(10, 20)"
   ]
  },
  {
   "cell_type": "code",
   "execution_count": 26,
   "id": "22c00eeb-6be3-48dc-b820-5f9df52d4a46",
   "metadata": {},
   "outputs": [],
   "source": [
    "#Or option 2: use staticargnames. This will work, but is not great as it has to recompile for each new value of the nums in static argnums\n",
    "#Static means python values not jax arrays\n",
    "\n",
    "jit_cond = jax.jit(g_inner_jitted, static_argnames='n')"
   ]
  },
  {
   "cell_type": "code",
   "execution_count": 31,
   "id": "18ec044a-e0d5-48db-9cd5-a680c3c4389f",
   "metadata": {},
   "outputs": [
    {
     "data": {
      "text/plain": [
       "Array([1.], dtype=float32)"
      ]
     },
     "execution_count": 31,
     "metadata": {},
     "output_type": "execute_result"
    }
   ],
   "source": [
    "#Best:\n",
    "\n",
    "#jnp.where, jnp.piecewise -> function like np.piecwise fxns\n",
    "\n",
    "#Jax.lax.cond is where true_fun is ran if its true, false if its false and pred is the condtional the if(conditional)\n",
    "#compiles both branches and evaulates the if at runtime\n",
    "def cond(pred, true_fun, false_fun, operand):\n",
    "  if pred:\n",
    "    return true_fun(operand)\n",
    "  else:\n",
    "    return false_fun(operand)\n",
    "\n",
    "operand = jnp.array([0.])\n",
    "lax.cond(True, lambda x: x+1, lambda x: x-1, operand)\n",
    "\n",
    "#Also: fori and while loops: Jax does cool stuff using XLA"
   ]
  },
  {
   "cell_type": "markdown",
   "id": "0495fb1f-1fde-4afb-a876-430f870ae538",
   "metadata": {},
   "source": [
    "# Autovectorization:\n",
    "jax.vmap() adds a batch ax to beginning of each input. Can also use in_axes or out_axes to specify the location of batch dimensions\n",
    "\n",
    "batch_convolve_v3 = jax.vmap(convolve, in_axes=[0, None])\n",
    "\n",
    "batch_convolve_v3(xs, w)\n",
    "\n"
   ]
  },
  {
   "cell_type": "markdown",
   "id": "e31b9722-2ce0-4e0b-a2da-b88aa31c8300",
   "metadata": {},
   "source": [
    "# Autodiff"
   ]
  },
  {
   "cell_type": "code",
   "execution_count": 35,
   "id": "85d6363d-b396-4bfc-8f5a-aaa60d452b8b",
   "metadata": {},
   "outputs": [
    {
     "data": {
      "text/plain": [
       "Array(0.07065082, dtype=float32, weak_type=True)"
      ]
     },
     "execution_count": 35,
     "metadata": {},
     "output_type": "execute_result"
    }
   ],
   "source": [
    "grad_tanh = grad(jnp.tanh) #grad_fxn = grad(fxn_name). Returns a fxn \n",
    "gradded_val = grad(jnp.tanh)(2.)\n",
    "gradded_val\n",
    "\n",
    "# loss_value, Wb_grad = jax.value_and_grad(fxn, (0, 1))(W, b)\n",
    "#Also: argnums is either int or list of ints (positional) to differentiate wrt. \n",
    "#Returns same datastructure/type as the argnums"
   ]
  },
  {
   "cell_type": "markdown",
   "id": "0a237d8f-e410-4597-9872-c29d82c7453f",
   "metadata": {},
   "source": [
    "# Pytree"
   ]
  },
  {
   "cell_type": "code",
   "execution_count": null,
   "id": "8276e421-e112-454c-94b8-95b80e652f3c",
   "metadata": {},
   "outputs": [],
   "source": [
    "#Basically nested data structures can be seen as a tree. Can make some of these but idt we need to worry about that rn"
   ]
  },
  {
   "cell_type": "markdown",
   "id": "29a7e7a7-f3d3-4baf-9afb-9016b12fac84",
   "metadata": {},
   "source": [
    "# Sharp bits"
   ]
  },
  {
   "cell_type": "code",
   "execution_count": null,
   "id": "8720eec0-971a-4431-a498-a1dc292f0334",
   "metadata": {},
   "outputs": [],
   "source": [
    "#jax can only differentiate immutables (that are immutable in the same way a str is. Can += but just reassings)\n",
    "#Uses x.at[idx].set(y) , .add(num), .multiply(num), etc. These are addings that are made rlly fast under hood"
   ]
  }
 ],
 "metadata": {
  "kernelspec": {
   "display_name": "Python 3 (ipykernel)",
   "language": "python",
   "name": "python3"
  },
  "language_info": {
   "codemirror_mode": {
    "name": "ipython",
    "version": 3
   },
   "file_extension": ".py",
   "mimetype": "text/x-python",
   "name": "python",
   "nbconvert_exporter": "python",
   "pygments_lexer": "ipython3",
   "version": "3.11.9"
  }
 },
 "nbformat": 4,
 "nbformat_minor": 5
}
