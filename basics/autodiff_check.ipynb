{
 "cells": [
  {
   "cell_type": "markdown",
   "id": "4ada22e5-bc2e-4e08-b42e-e87ce41f8d49",
   "metadata": {},
   "source": [
    "# Imports "
   ]
  },
  {
   "cell_type": "code",
   "execution_count": 1,
   "id": "a3b82e03-6a72-4875-8fb5-9fadb0360f4a",
   "metadata": {},
   "outputs": [],
   "source": [
    "%load_ext autoreload\n",
    "%autoreload 2\n",
    "import jax.numpy as jnp\n",
    "from jax import grad\n",
    "import jax\n",
    "import numpy as np\n",
    "%matplotlib inline\n",
    "from grad import *\n",
    "from model import *"
   ]
  },
  {
   "cell_type": "markdown",
   "id": "c6ee48bf",
   "metadata": {},
   "source": [
    "# Test of my autodiff library "
   ]
  },
  {
   "cell_type": "code",
   "execution_count": 4,
   "id": "9ab9ded4",
   "metadata": {},
   "outputs": [
    {
     "name": "stdout",
     "output_type": "stream",
     "text": [
      "Topologically sorted Values:  [Number(12), Number(3), Number(15), Number(5), Number(3), Number(2), Number(1)]\n",
      "Backprop with topological sort [(1, Number(12)), (-1, Number(3)), (1, Number(15)), (3, Number(5)), (5, Number(3)), (5, Number(2)), (5, Number(1))]\n",
      "Backprop from the value [(1, Number(12)), (-1, Number(3)), (1, Number(15)), (3, Number(5)), (5, Number(3)), (5, Number(2)), (5, Number(1))]\n"
     ]
    }
   ],
   "source": [
    "'''\n",
    "This bit deals with how the computation graph is managed. The two outputs should be the same.\n",
    "\n",
    "Here, Number is my from-near-scratch autodiff library, kind of like how torch.tensor() is\n",
    "'''\n",
    "x1 = Number(1)\n",
    "x2 = Number(2)\n",
    "x3 = Number(3)\n",
    "x4 = Number(4)\n",
    "x5 = Number(5)\n",
    "\n",
    "y = (x1+x2)*x5 - x3\n",
    "top_sorted = topo_sort(y)\n",
    "\n",
    "print(\"Topologically sorted Values: \", top_sorted)\n",
    "\n",
    "y.null_gradients()\n",
    "\n",
    "for num in top_sorted:\n",
    "    num.backprop_single()\n",
    "    \n",
    "print(\"Backprop with topological sort\", [(i.grad, i) for i in top_sorted])\n",
    "\n",
    "y.null_gradients()\n",
    "y.backprop()\n",
    "\n",
    "print(\"Backprop from the value\", [(i.grad, i) for i in top_sorted])"
   ]
  },
  {
   "cell_type": "code",
   "execution_count": 5,
   "id": "26de7cd8",
   "metadata": {},
   "outputs": [
    {
     "name": "stdout",
     "output_type": "stream",
     "text": [
      "value comparison: Mine Number(0.8807970779778823) Jax 0.8807970285415649\n",
      "Grad comparison: Mine [0.1049935854035065] Jax[0.10499357]\n"
     ]
    }
   ],
   "source": [
    "'''\n",
    "For the next 3 cells, me and jax compare values on functions critical to neural networks.\n",
    "'''\n",
    "\n",
    "testmine = Number(2.)\n",
    "mysigmoid = 1/(1+math.e**-testmine)\n",
    "\n",
    "mysigmoid.backprop(should_print=False)\n",
    "\n",
    "def jaxsigmoidsum(x):\n",
    "    x = jnp.sum(x)\n",
    "    return 1 / (1 + jnp.exp(-x)) \n",
    "\n",
    "testjax = jnp.array([2.]) \n",
    "sigmoided_value, grads = jax.value_and_grad(jaxsigmoidsum, argnums=(0))(testjax)\n",
    "\n",
    "print(f\"value comparison:\", f\"Mine {mysigmoid}\", f\"Jax {sigmoided_value}\")\n",
    "print(f\"Grad comparison:\", f\"Mine {[testmine.grad]}\", f\"Jax{grads}\")"
   ]
  },
  {
   "cell_type": "code",
   "execution_count": 6,
   "id": "dfc804d6",
   "metadata": {},
   "outputs": [],
   "source": [
    "def jax_sigmoid(x):\n",
    "    return jnp.vectorize(lambda x: 1/(1+math.e**-x))(x)\n",
    "\n",
    "def jax_weight_matrix(shape, naive=False):\n",
    "    \"\"\"weight matrix thingy.give dims. Not 0.\"\"\"\n",
    "    number = 1\n",
    "    if(type(shape) == int):\n",
    "        shape = [shape]\n",
    "    for i in shape:\n",
    "        number*= i\n",
    "    if naive:\n",
    "        return jnp.array([(i / 10) for i in range(number)]).reshape(*shape)\n",
    "    return np.array([np.random.uniform(low=-.2, high=.2, size=None) for i in range(number)]).reshape(*shape)\n",
    "    # return np.array([variable(np.random.uniform(low=-.2, high=.2, size=None)) for i in range(sizes[0] * sizes[1])).reshape(*shape)"
   ]
  },
  {
   "cell_type": "code",
   "execution_count": 7,
   "id": "ec10c353",
   "metadata": {},
   "outputs": [
    {
     "name": "stdout",
     "output_type": "stream",
     "text": [
      "My value Number(10.65)\n",
      "Jax's value 10.65\n",
      "Jax's grads [1.5       1.5       1.8000001 1.8000001 2.1       2.1       2.4\n",
      " 2.4       2.6999998 2.6999998]\n",
      "My grads [1.5, 1.5, 1.8, 1.8, 2.0999999999999996, 2.0999999999999996, 2.4000000000000004, 2.4000000000000004, 2.7, 2.7]\n"
     ]
    }
   ],
   "source": [
    "test_shape = (3,5)\n",
    "test_jax = jax_weight_matrix(test_shape, naive=True)\n",
    "test_mine = weight_matrix(test_shape, naive=True)\n",
    "test_shape2 = (5, 2)\n",
    "test_jax2 = jax_weight_matrix(test_shape2, naive=True)\n",
    "test_mine2 = weight_matrix(test_shape2, naive=True)\n",
    "\n",
    "my_matmul = np.sum(test_mine @ test_mine2)\n",
    "def j_matmul(a, b):\n",
    "    thing = a @ b\n",
    "    return jnp.sum(thing)\n",
    "\n",
    "\n",
    "print(\"My value\" , my_matmul)\n",
    "print(\"Jax's value\", j_matmul(test_jax, test_jax2))\n",
    "\n",
    "j_matmuled, grads = jax.value_and_grad(j_matmul, argnums=(0, 1))(test_jax, test_jax2)\n",
    "\n",
    "my_matmul.backprop()\n",
    "\n",
    "print(\"Jax's grads\" , grads[1].flatten())\n",
    "print(\"My grads\", [thing.grad for thing in test_mine2.flat])\n",
    "#These match almost exactly! Yay! Please don't ask about the formatting"
   ]
  },
  {
   "cell_type": "markdown",
   "id": "fe71d89b-c6fb-4a9d-8eaa-f15e763836c4",
   "metadata": {},
   "source": [
    "# Overfitting a single image"
   ]
  },
  {
   "cell_type": "code",
   "execution_count": 2,
   "id": "cdd3817b-2859-4488-aa24-952606bae576",
   "metadata": {},
   "outputs": [
    {
     "name": "stdout",
     "output_type": "stream",
     "text": [
      "The autoreload extension is already loaded. To reload it, use:\n",
      "  %reload_ext autoreload\n"
     ]
    }
   ],
   "source": [
    "import tensorflow as tf\n",
    "import keras\n",
    "%load_ext autoreload\n",
    "%autoreload 2\n",
    "import numpy as np\n",
    "\n",
    "(x_train, y_train), (x_test, y_test) = keras.datasets.mnist.load_data(path=\"mnist.npz\", )\n",
    "indices = np.arange(len(x_train))\n",
    "np.random.shuffle(indices)\n",
    "x_train = x_train[indices]\n",
    "y_train = y_train[indices]\n",
    "\n",
    "def batch(x, y, batch_size=32):\n",
    "    if len(x) % batch_size != 0:\n",
    "        x = x[:batch_size * (len(x)//batch_size)]\n",
    "        y=y[:batch_size*(len(x)//batch_size)]\n",
    "    return np.array_split(x, len(x) / batch_size, axis=0), np.array_split(y, len(y)/batch_size, axis=0)\n",
    "\n",
    "def fix_data(x, y):\n",
    "    x = x.reshape(x.shape[0], 28*28)/255\n",
    "    test = np.zeros((x.shape[0], 10))\n",
    "    test[np.arange(x.shape[0]),y] = 1\n",
    "    return (x, test)\n",
    "\n",
    "fixed_x, fixed_y = fix_data(x_train[:1], y_train[:1]) #We take only one image\n",
    "b_x , b_y = batch(fixed_x, fixed_y, 1)\n"
   ]
  },
  {
   "cell_type": "code",
   "execution_count": 3,
   "id": "8cdfd579-df78-4222-b44d-d6d4b477ecce",
   "metadata": {},
   "outputs": [
    {
     "data": {
      "image/png": "[encoded data removed]",
      "text/plain": [
       "<Figure size 640x480 with 1 Axes>"
      ]
     },
     "metadata": {},
     "output_type": "display_data"
    },
    {
     "name": "stdout",
     "output_type": "stream",
     "text": [
      "starting epoch 0\n",
      "Acc: 0.0 Avg loss: 2.464350924497948\n",
      "Elapsed time for one epoch: 0.6434432999230921 seconds\n",
      "starting epoch 1\n",
      "Acc: 0.0 Avg loss: 2.35107228508197\n",
      "Elapsed time for one epoch: 0.16647569998167455 seconds\n",
      "starting epoch 2\n",
      "Acc: 0.0 Avg loss: 2.244083228720178\n",
      "Elapsed time for one epoch: 0.16046219994314015 seconds\n",
      "starting epoch 3\n",
      "Acc: 0.0 Avg loss: 2.141493009504902\n",
      "Elapsed time for one epoch: 0.5069714998826385 seconds\n",
      "starting epoch 4\n",
      "Acc: 1.0 Avg loss: 2.041789184118139\n",
      "Elapsed time for one epoch: 0.1654153000563383 seconds\n",
      "starting epoch 5\n",
      "Acc: 1.0 Avg loss: 1.9454066064268958\n",
      "Elapsed time for one epoch: 0.15984610002487898 seconds\n",
      "starting epoch 6\n",
      "Acc: 1.0 Avg loss: 1.8514976778770225\n",
      "Elapsed time for one epoch: 0.16168779996223748 seconds\n",
      "starting epoch 7\n",
      "Acc: 1.0 Avg loss: 1.7598984662092847\n",
      "Elapsed time for one epoch: 0.5182409000117332 seconds\n",
      "starting epoch 8\n",
      "Acc: 1.0 Avg loss: 1.6705383839144328\n",
      "Elapsed time for one epoch: 0.16118850000202656 seconds\n",
      "starting epoch 9\n",
      "Acc: 1.0 Avg loss: 1.583424248710948\n",
      "Elapsed time for one epoch: 0.1625743000768125 seconds\n"
     ]
    }
   ],
   "source": [
    "\n",
    "my_model = Model(28*28, 10, [ 8, 16])\n",
    "import matplotlib.pyplot as plt\n",
    "import numpy as np\n",
    "%matplotlib inline  \n",
    "\n",
    "\n",
    "img = b_x[0]\n",
    "actual = b_y[0] \n",
    "plt.axis('off')\n",
    "predicted = my_model.fd(np.array(img.flat))\n",
    "plt.title(f\"Truth {np.argmax(actual)} | My Model's guess (from before training) {np.argmax(predicted)}\")\n",
    "plt.imshow(img.reshape(28, 28))\n",
    "plt.show()\n",
    "\n",
    "#As you can see the model has learnt to recognize the number 9! \n",
    "datas = []\n",
    "for _epoch in range(10):\n",
    "    print(f\"starting epoch {_epoch}\")\n",
    "    datas.append(my_model.train_epoch(b_x, b_y, lr=.1, timer=False, batch_timer=False))\n",
    "#as you can see loss does go down and it manages to predict the single image.\n",
    "#I tried really hard to get it to be able to fully train on all images, but it takes a very long time (in the hours+). \n",
    "#Intended behavior: At first, the acc (accuracy) is 0 because it has no idea what it's doing. But over time, it fits to that image and predicts that image (Acc of 1). Yay!\n",
    "#Loss also does go down."
   ]
  },
  {
   "cell_type": "code",
   "execution_count": null,
   "id": "18db4e7b",
   "metadata": {},
   "outputs": [
    {
     "data": {
      "image/png": "[encoded data removed]",
      "text/plain": [
       "<Figure size 640x480 with 1 Axes>"
      ]
     },
     "metadata": {},
     "output_type": "display_data"
    }
   ],
   "source": [
    "import matplotlib.pyplot as plt\n",
    "import numpy as np\n",
    "%matplotlib inline  \n",
    "\n",
    "\n",
    "img = b_x[0]\n",
    "actual = b_y[0] \n",
    "plt.axis('off')\n",
    "predicted = my_model.fd(np.array(img.flat))\n",
    "plt.title(f\"Truth {np.argmax(actual)} | my model's fit {np.argmax(predicted)}\")\n",
    "plt.imshow(img.reshape(28, 28))\n",
    "plt.show()\n",
    "\n",
    "#As you can see the model has learnt to recognize the number! "
   ]
  },
  {
   "cell_type": "code",
   "execution_count": null,
   "id": "a1998e1e",
   "metadata": {},
   "outputs": [],
   "source": []
  }
 ],
 "metadata": {
  "kernelspec": {
   "display_name": "Python 3",
   "language": "python",
   "name": "python3"
  },
  "language_info": {
   "codemirror_mode": {
    "name": "ipython",
    "version": 3
   },
   "file_extension": ".py",
   "mimetype": "text/x-python",
   "name": "python",
   "nbconvert_exporter": "python",
   "pygments_lexer": "ipython3",
   "version": "3.11.9"
  }
 },
 "nbformat": 4,
 "nbformat_minor": 5
}
