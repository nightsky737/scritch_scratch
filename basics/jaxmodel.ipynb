{
 "cells": [
  {
   "cell_type": "code",
   "execution_count": 6,
   "id": "a5ecdc7e",
   "metadata": {},
   "outputs": [
    {
     "name": "stdout",
     "output_type": "stream",
     "text": [
      "The autoreload extension is already loaded. To reload it, use:\n",
      "  %reload_ext autoreload\n"
     ]
    }
   ],
   "source": [
    "%load_ext autoreload\n",
    "%autoreload 2\n",
    "import jax.numpy as jnp\n",
    "from jax import grad\n",
    "import jax\n",
    "import numpy as np\n",
    "import math\n",
    "import keras\n",
    "%matplotlib inline\n",
    "from jaxmodel import *"
   ]
  },
  {
   "cell_type": "markdown",
   "id": "f50332e0",
   "metadata": {},
   "source": [
    "# Test model"
   ]
  },
  {
   "cell_type": "code",
   "execution_count": 7,
   "id": "37d6bb56",
   "metadata": {},
   "outputs": [],
   "source": [
    "(x_train, y_train), (x_test, y_test) = keras.datasets.mnist.load_data(path=\"mnist.npz\", )\n",
    "indices = np.arange(len(x_train))\n",
    "np.random.shuffle(indices)\n",
    "x_train = x_train[indices]\n",
    "y_train = y_train[indices]\n",
    "\n",
    "def batch(x, y, batch_size=32):\n",
    "    if len(x) % batch_size != 0:\n",
    "        x = x[:batch_size * (len(x)//batch_size)]\n",
    "        y=y[:batch_size*(len(x)//batch_size)]\n",
    "    return np.array_split(x, len(x) / batch_size, axis=0), np.array_split(y, len(y)/batch_size, axis=0)\n",
    "\n",
    "def fix_data(x, y):\n",
    "    x = x.reshape(x.shape[0], 28*28)/255\n",
    "    test = np.zeros((x.shape[0], 10))\n",
    "    test[np.arange(x.shape[0]),y] = 1\n",
    "    return (x, test)\n",
    "\n",
    "fixed_x, fixed_y = fix_data(x_train[:10000], y_train[:10000])\n",
    "b_x , b_y = batch(fixed_x, fixed_y, 32)\n",
    "\n"
   ]
  },
  {
   "cell_type": "code",
   "execution_count": null,
   "id": "bce76b87",
   "metadata": {},
   "outputs": [],
   "source": [
    "jaxmodel = JaxModel(28*28, 10, [ 8, 16], mse)\n",
    "datas = []\n",
    "for _epoch in range(20):\n",
    "    print(f\"starting epoch {_epoch}\")\n",
    "    datas.append(jaxmodel.train_epoch(b_x, b_y, lr=1e-2 ))"
   ]
  },
  {
   "cell_type": "code",
   "execution_count": null,
   "id": "dc1440b6",
   "metadata": {},
   "outputs": [],
   "source": [
    "import matplotlib.pyplot as plt\n",
    "import numpy as np\n",
    "%matplotlib inline  \n",
    "\n",
    "fig = plt.figure(figsize=(10, 7))\n",
    "pic = 1\n",
    "for i, img in enumerate(x_test[:10]):\n",
    "  plt.subplot(2, 5, pic)\n",
    "  plt.axis('off')\n",
    "  predicted = jaxmodel.fd(img.flat)\n",
    "  plt.title(f\"T {y_test[i]} mine {np.argmax(predicted)}\")\n",
    "  plt.imshow(img)\n",
    "  pic+= 1\n",
    "plt.show()\n"
   ]
  }
 ],
 "metadata": {
  "kernelspec": {
   "display_name": "Python 3",
   "language": "python",
   "name": "python3"
  },
  "language_info": {
   "codemirror_mode": {
    "name": "ipython",
    "version": 3
   },
   "file_extension": ".py",
   "mimetype": "text/x-python",
   "name": "python",
   "nbconvert_exporter": "python",
   "pygments_lexer": "ipython3",
   "version": "3.11.9"
  }
 },
 "nbformat": 4,
 "nbformat_minor": 5
}
