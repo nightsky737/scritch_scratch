{
 "cells": [
  {
   "cell_type": "code",
   "execution_count": 13,
   "id": "a5ecdc7e",
   "metadata": {},
   "outputs": [
    {
     "name": "stdout",
     "output_type": "stream",
     "text": [
      "The autoreload extension is already loaded. To reload it, use:\n",
      "  %reload_ext autoreload\n"
     ]
    }
   ],
   "source": [
    "%load_ext autoreload\n",
    "%autoreload 2\n",
    "import jax.numpy as jnp\n",
    "from jax import grad\n",
    "import jax\n",
    "import numpy as np\n",
    "import math\n",
    "import keras\n",
    "%matplotlib inline\n",
    "from jaxmodel import *"
   ]
  },
  {
   "cell_type": "markdown",
   "id": "f50332e0",
   "metadata": {},
   "source": [
    "# Test model"
   ]
  },
  {
   "cell_type": "code",
   "execution_count": 15,
   "id": "37d6bb56",
   "metadata": {},
   "outputs": [],
   "source": [
    "(x_train, y_train), (x_test, y_test) = keras.datasets.mnist.load_data(path=\"mnist.npz\", )\n",
    "indices = np.arange(len(x_train))\n",
    "np.random.shuffle(indices)\n",
    "x_train = x_train[indices]\n",
    "y_train = y_train[indices]\n",
    "\n",
    "def batch(x, y, batch_size=32):\n",
    "    if len(x) % batch_size != 0:\n",
    "        x = x[:batch_size * (len(x)//batch_size)]\n",
    "        y=y[:batch_size*(len(x)//batch_size)]\n",
    "    return np.array_split(x, len(x) / batch_size, axis=0), np.array_split(y, len(y)/batch_size, axis=0)\n",
    "\n",
    "def fix_data(x, y):\n",
    "    x = x.reshape(x.shape[0], 28*28)/255\n",
    "    test = np.zeros((x.shape[0], 10))\n",
    "    test[np.arange(x.shape[0]),y] = 1\n",
    "    return (x, test)\n",
    "\n",
    "fixed_x, fixed_y = fix_data(x_train[:1000], y_train[:1000])\n",
    "b_x , b_y = batch(fixed_x, fixed_y, 32)\n",
    "x_test, y_test = batch(*fix_data(x_test, y_test))\n",
    "\n"
   ]
  },
  {
   "cell_type": "markdown",
   "id": "31557910",
   "metadata": {},
   "source": []
  },
  {
   "cell_type": "code",
   "execution_count": null,
   "id": "bce76b87",
   "metadata": {},
   "outputs": [
    {
     "name": "stdout",
     "output_type": "stream",
     "text": [
      "starting epoch 0\n",
      "Acc: 0.1875 Loss: 36.1034\n",
      "starting epoch 1\n",
      "Acc: 0.3125 Loss: 28.5651\n",
      "starting epoch 2\n",
      "Acc: 0.3750 Loss: 26.2446\n",
      "starting epoch 3\n",
      "Acc: 0.5000 Loss: 24.3099\n",
      "starting epoch 4\n",
      "Acc: 0.6250 Loss: 22.0661\n",
      "starting epoch 5\n",
      "Acc: 0.6250 Loss: 19.0463\n",
      "starting epoch 6\n",
      "Acc: 0.6875 Loss: 16.7944\n",
      "starting epoch 7\n",
      "Acc: 0.6875 Loss: 14.8231\n",
      "starting epoch 8\n",
      "Acc: 0.6875 Loss: 13.2295\n",
      "starting epoch 9\n",
      "Acc: 0.7188 Loss: 12.0155\n",
      "starting epoch 10\n",
      "Acc: 0.7188 Loss: 10.7511\n",
      "starting epoch 11\n",
      "Acc: 0.7500 Loss: 9.6738\n",
      "starting epoch 12\n",
      "Acc: 0.7188 Loss: 8.7935\n",
      "starting epoch 13\n",
      "Acc: 0.8438 Loss: 8.0130\n",
      "starting epoch 14\n",
      "Acc: 0.8438 Loss: 7.4154\n",
      "starting epoch 15\n",
      "Acc: 0.8750 Loss: 7.0053\n",
      "starting epoch 16\n",
      "Acc: 0.8438 Loss: 6.4726\n",
      "starting epoch 17\n",
      "Acc: 0.8438 Loss: 6.0184\n",
      "starting epoch 18\n",
      "Acc: 0.8750 Loss: 5.7295\n",
      "starting epoch 19\n",
      "Acc: 0.8750 Loss: 5.4015\n"
     ]
    }
   ],
   "source": [
    "jaxmodel = JaxModel(28*28, 10, [ 8, 16], jax_mse, jax_sigmoid) \n",
    "datas = []\n",
    "for _epoch in range(20):\n",
    "    print(f\"starting epoch {_epoch}\")\n",
    "    datas.append(jaxmodel.train_epoch(b_x, b_y,  (x_test, y_test), lr=1e-2 ))"
   ]
  },
  {
   "cell_type": "code",
   "execution_count": null,
   "id": "dc1440b6",
   "metadata": {},
   "outputs": [
    {
     "data": {
      "image/png": "[encoded data removed]",
      "text/plain": [
       "<Figure size 1000x700 with 10 Axes>"
      ]
     },
     "metadata": {},
     "output_type": "display_data"
    }
   ],
   "source": [
    "import matplotlib.pyplot as plt\n",
    "import numpy as np\n",
    "%matplotlib inline  \n",
    "\n",
    "fig = plt.figure(figsize=(10, 7))\n",
    "pic = 1\n",
    "for i, img in enumerate(x_test[0][:10]):\n",
    "  plt.subplot(2, 5, pic)\n",
    "  plt.axis('off')\n",
    "  predicted = jaxmodel.fd(jnp.array(img.flat))\n",
    "  plt.title(f\"Truth {np.argmax(y_test[0][i])} mine {jnp.argmax(predicted)}\")\n",
    "  plt.imshow(img.reshape(28, 28))\n",
    "  pic+= 1\n",
    "plt.show()\n",
    "\n",
    "#As you can see the model has learnt to recognize numbers!"
   ]
  },
  {
   "cell_type": "code",
   "execution_count": null,
   "id": "82f389d0",
   "metadata": {},
   "outputs": [],
   "source": []
  },
  {
   "cell_type": "code",
   "execution_count": null,
   "id": "72c40bb5",
   "metadata": {},
   "outputs": [],
   "source": []
  }
 ],
 "metadata": {
  "kernelspec": {
   "display_name": "Python 3",
   "language": "python",
   "name": "python3"
  },
  "language_info": {
   "codemirror_mode": {
    "name": "ipython",
    "version": 3
   },
   "file_extension": ".py",
   "mimetype": "text/x-python",
   "name": "python",
   "nbconvert_exporter": "python",
   "pygments_lexer": "ipython3",
   "version": "3.11.9"
  }
 },
 "nbformat": 4,
 "nbformat_minor": 5
}
