{
 "cells": [
  {
   "cell_type": "code",
   "execution_count": null,
   "id": "f503cdaa-1f3e-4d24-bcef-134750f17a98",
   "metadata": {},
   "outputs": [],
   "source": [
    "import tensorflow as tf\n",
    "import keras\n",
    "%load_ext autoreload\n",
    "%autoreload 2\n",
    "from grad import *\n",
    "from model import *\n",
    "import numpy as np\n"
   ]
  },
  {
   "cell_type": "markdown",
   "id": "152c3953-e292-49e0-973c-c0fe35ff4440",
   "metadata": {
    "jp-MarkdownHeadingCollapsed": true
   },
   "source": [
    "# I check autograd libraries"
   ]
  },
  {
   "cell_type": "markdown",
   "id": "f12812d2-1064-4f11-b66e-41b205e1c056",
   "metadata": {},
   "source": [
    "#Holy debugging time\n",
    "def np_number(k):\n",
    "    return np.array([Number(i) for i in range(k)])\n",
    "m = Number(2)\n",
    "a = (Number(3) + m) * 2.1 - (Number(9) - m) / (Number(3) - 8 +4)\n",
    "print(topo_sort(a))\n",
    "print(old_sort(a))\n",
    "print(gpt_sort(a))"
   ]
  },
  {
   "cell_type": "code",
   "execution_count": null,
   "id": "f5aeff47-4eee-426d-8a46-b00a6004b9e1",
   "metadata": {},
   "outputs": [],
   "source": [
    "x1 = Number(1)\n",
    "x2 = Number(2)\n",
    "x3 = Number(3)\n",
    "x4 = Number(4)\n",
    "x5 = Number(5)\n",
    "\n",
    "y = (x1+x2)*x5 - x3\n",
    "top_sorted = topo_sort(y)\n",
    "print(top_sorted)\n",
    "\n",
    "y.null_gradients()\n",
    "\n",
    "for num in top_sorted:\n",
    "    num.backprop_single()\n",
    "    \n",
    "print([(i.grad, i) for i in top_sorted])\n",
    "\n",
    "y.null_gradients()\n",
    "y.backprop()\n",
    "\n",
    "print( [(i.grad, i) for i in top_sorted], \"key\")"
   ]
  },
  {
   "cell_type": "markdown",
   "id": "3b5119ee-c2e7-49a0-8cf1-4bb3e39e8f57",
   "metadata": {},
   "source": [
    "# data getting"
   ]
  },
  {
   "cell_type": "code",
   "execution_count": null,
   "id": "351386c9-f266-422e-9e44-3ab2881abc95",
   "metadata": {},
   "outputs": [],
   "source": [
    "\n",
    "(x_train, y_train), (x_test, y_test) = keras.datasets.mnist.load_data(path=\"mnist.npz\", )\n",
    "indices = np.arange(len(x_train))\n",
    "np.random.shuffle(indices)\n",
    "x_train = x_train[indices]\n",
    "y_train = y_train[indices]"
   ]
  },
  {
   "cell_type": "markdown",
   "id": "f0dce7c4-80b2-4dbd-9110-67ac4803d0d0",
   "metadata": {
    "jp-MarkdownHeadingCollapsed": true
   },
   "source": [
    "# Keras Model"
   ]
  },
  {
   "cell_type": "code",
   "execution_count": null,
   "id": "49f285a7-559f-4e66-99e1-cad0e5d0570e",
   "metadata": {},
   "outputs": [],
   "source": [
    "def get_flat_dataset(raw_x, raw_y):\n",
    "  raw_x = raw_x / 255\n",
    "  dataset = tf.data.Dataset.from_tensor_slices((raw_x.flatten().reshape(-1, 28*28), raw_y))\n",
    "  return dataset"
   ]
  },
  {
   "cell_type": "code",
   "execution_count": null,
   "id": "91ae7f7b-769d-4a0e-a7ba-dd71b351dd20",
   "metadata": {},
   "outputs": [],
   "source": [
    "flat_train = get_flat_dataset(x_train[:500], y_train[:500])\n",
    "flat_test = get_flat_dataset(x_test[:500], y_test[:500])"
   ]
  },
  {
   "cell_type": "code",
   "execution_count": null,
   "id": "6dcc22bd-b850-4ef5-9f0f-cff7824d5cfd",
   "metadata": {},
   "outputs": [],
   "source": [
    "inputs = keras.Input(shape=((28* 28,)))\n",
    "x = keras.layers.Dense(4)(inputs)\n",
    "x = keras.layers.Dense(8)(x)\n",
    "\n",
    "outputs = keras.layers.Dense(10, activation=\"softmax\")(x)\n",
    "model = keras.Model(inputs=inputs, outputs=outputs)"
   ]
  },
  {
   "cell_type": "code",
   "execution_count": null,
   "id": "07472f05-409a-4e40-823d-b3620c04717f",
   "metadata": {
    "scrolled": true
   },
   "outputs": [],
   "source": [
    "model.compile(loss=\"sparse_categorical_crossentropy\", #labels appear to be from one to ten so i think this the right loss\n",
    "              optimizer=\"rmsprop\",\n",
    "              metrics=['accuracy'])\n",
    "\n",
    "\n",
    "history = model.fit(flat_train.take(1000).batch(4, drop_remainder=True).prefetch(tf.data.AUTOTUNE), epochs=20,\n",
    "                      validation_data=(flat_test.batch(4, drop_remainder = True).prefetch(tf.data.AUTOTUNE)),\n",
    "                      )\n"
   ]
  },
  {
   "cell_type": "markdown",
   "id": "15195a7a-3eca-4ac0-9e93-feed0ec2e898",
   "metadata": {},
   "source": [
    "# My model\n"
   ]
  },
  {
   "cell_type": "code",
   "execution_count": null,
   "id": "94737158-5594-4df6-9772-9e18910c36fe",
   "metadata": {},
   "outputs": [],
   "source": [
    "def batch(x, y, batch_size=32):\n",
    "    if len(x) % batch_size != 0:\n",
    "        x = x[:batch_size * (len(x)//batch_size)]\n",
    "        y=y[:batch_size*(len(x)//batch_size)]\n",
    "    return np.array_split(x, len(x) / batch_size, axis=0), np.array_split(y, len(y)/batch_size, axis=0)"
   ]
  },
  {
   "cell_type": "code",
   "execution_count": null,
   "id": "704c2578-1d74-4e11-a6f2-fd20788c448c",
   "metadata": {},
   "outputs": [],
   "source": [
    "def fix_data(x, y):\n",
    "    x = x.reshape(x.shape[0], 28*28)/255\n",
    "    test = np.zeros((x.shape[0], 10))\n",
    "    test[np.arange(x.shape[0]),y] = 1\n",
    "    return (x, test)"
   ]
  },
  {
   "cell_type": "code",
   "execution_count": null,
   "id": "b2c1717a-3ae5-4d42-b22c-8ca4a9adb08e",
   "metadata": {},
   "outputs": [],
   "source": [
    "fixed_x, fixed_y = fix_data(x_train[:500], y_train[:500])\n",
    "b_x , b_y = batch(fixed_x, fixed_y, 4)\n"
   ]
  },
  {
   "cell_type": "code",
   "execution_count": null,
   "id": "ce493f0b-89b5-49e3-906e-089d8e370d5e",
   "metadata": {},
   "outputs": [],
   "source": [
    "my_model = Model(28*28, 10, [4, 8])\n",
    "datas = []\n",
    "for _epoch in range(10):\n",
    "    datas.append(my_model.train_epoch(b_x, b_y, lr=10e-1))"
   ]
  },
  {
   "cell_type": "code",
   "execution_count": null,
   "id": "03f5a265-f1b7-41f6-b691-647a03b51f6d",
   "metadata": {},
   "outputs": [],
   "source": [
    "print(datas)"
   ]
  },
  {
   "cell_type": "code",
   "execution_count": null,
   "id": "4e2109b7-045c-4c78-81c8-28d50859487a",
   "metadata": {},
   "outputs": [],
   "source": [
    "a = Number(2)\n",
    "print(isinstance(a,  (Number, int, float, np.generic)))\n",
    "Number(1) * Number(2)"
   ]
  },
  {
   "cell_type": "code",
   "execution_count": null,
   "id": "76a1999c-ae86-49d5-adb1-67b914c5c8df",
   "metadata": {
    "scrolled": true
   },
   "outputs": [],
   "source": [
    "import matplotlib.pyplot as plt\n",
    "import numpy as np\n",
    "%matplotlib inline  \n",
    "\n",
    "fig = plt.figure(figsize=(10, 7))\n",
    "pic = 1\n",
    "for i, img in enumerate(x_test[:10]):\n",
    "  plt.subplot(2, 5, pic)\n",
    "  plt.axis('off')\n",
    "  predicted = my_model.fd(img.flat)\n",
    "  keras_pred = model.predict(img.reshape(1, 28*28))\n",
    "  plt.title(f\"T {y_test[i]} mine {np.argmax(predicted)} keras {np.argmax(keras_pred)} \")\n",
    "  plt.imshow(img)\n",
    "  pic+= 1\n",
    "plt.show()\n",
    "#60% acc. Considering this is from nearly scratch not terrible "
   ]
  },
  {
   "cell_type": "markdown",
   "id": "dc638d15-c152-4eeb-b681-ac5271893489",
   "metadata": {},
   "source": [
    "# Comparison!"
   ]
  },
  {
   "cell_type": "code",
   "execution_count": null,
   "id": "a97309a5-9154-456a-9da3-132c35f8f773",
   "metadata": {},
   "outputs": [],
   "source": [
    "import matplotlib.pyplot as plt\n",
    "import numpy as np\n",
    "%matplotlib inline  \n",
    "\n",
    "fig = plt.figure(figsize=(10, 7))\n",
    "pic = 1\n",
    "for i, img in enumerate(x_test[:10]):\n",
    "  plt.subplot(2, 5, pic)\n",
    "  plt.axis('off')\n",
    "  predicted = my_model.fd(img.flat)\n",
    "  keras_pred = model.predict(img.reshape(1, 28*28))\n",
    "  plt.title(f\"T {y_test[i]} mine {np.argmax(predicted)} keras {np.argmax(keras_pred)} \")\n",
    "  plt.imshow(img)\n",
    "  pic+= 1\n",
    "plt.show()\n",
    "#60% acc. Considering this is from nearly scratch not terrible "
   ]
  },
  {
   "cell_type": "markdown",
   "id": "d0822416-65d9-41a6-85bc-4bf54d9ba9e0",
   "metadata": {},
   "source": [
    "# Reasons my model is kind of terrible and how to improve.\n",
    "1. Slow. Still not 100% sure where the computation comes from. (but ima guess backprop) To do: Go figure that out.\n",
    "2. Too little training data (This will be fixed with slow otherwise it would take days to train)\n",
    "3. No batching. Need to figure that out too. (and how backprop works with batching)\n",
    "4. No rmsprop. I don't even know where to start on that one.\n",
    "5. No validation data. Yet.\n",
    "\n",
    "\n",
    "More notes:\n",
    "Log things you've changed. esp when theres a gazillion interlocking things, FIX ONE AT A TIME\n",
    "Have you tried "
   ]
  },
  {
   "cell_type": "code",
   "execution_count": null,
   "id": "022b9bd2-232c-47f1-892d-5d8669feaf08",
   "metadata": {},
   "outputs": [],
   "source": []
  }
 ],
 "metadata": {
  "kernelspec": {
   "display_name": "Python 3 (ipykernel)",
   "language": "python",
   "name": "python3"
  },
  "language_info": {
   "codemirror_mode": {
    "name": "ipython",
    "version": 3
   },
   "file_extension": ".py",
   "mimetype": "text/x-python",
   "name": "python",
   "nbconvert_exporter": "python",
   "pygments_lexer": "ipython3",
   "version": "3.11.9"
  }
 },
 "nbformat": 4,
 "nbformat_minor": 5
}
