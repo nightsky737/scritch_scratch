{
 "cells": [
  {
   "cell_type": "code",
   "execution_count": 1,
   "id": "f503cdaa-1f3e-4d24-bcef-134750f17a98",
   "metadata": {},
   "outputs": [],
   "source": [
    "import tensorflow as tf\n",
    "import keras\n",
    "%load_ext autoreload\n",
    "%autoreload 2\n",
    "from grad import *\n",
    "from model import *\n",
    "import numpy as np\n"
   ]
  },
  {
   "cell_type": "markdown",
   "id": "152c3953-e292-49e0-973c-c0fe35ff4440",
   "metadata": {
    "jp-MarkdownHeadingCollapsed": true
   },
   "source": [
    "# I check autograd libraries"
   ]
  },
  {
   "cell_type": "code",
   "execution_count": null,
   "id": "f5aeff47-4eee-426d-8a46-b00a6004b9e1",
   "metadata": {},
   "outputs": [],
   "source": [
    "x1 = Number(1)\n",
    "x2 = Number(2)\n",
    "x3 = Number(3)\n",
    "x4 = Number(4)\n",
    "x5 = Number(5)\n",
    "\n",
    "y = (x1+x2)*x5 - x3\n",
    "top_sorted = topo_sort(y)\n",
    "print(top_sorted)\n",
    "\n",
    "y.null_gradients()\n",
    "\n",
    "for num in top_sorted:\n",
    "    num.backprop_single()\n",
    "    \n",
    "print([(i.grad, i) for i in top_sorted])\n",
    "\n",
    "y.null_gradients()\n",
    "y.backprop()\n",
    "\n",
    "print( [(i.grad, i) for i in top_sorted], \"key\")"
   ]
  },
  {
   "cell_type": "markdown",
   "id": "3b5119ee-c2e7-49a0-8cf1-4bb3e39e8f57",
   "metadata": {},
   "source": [
    "# data getting"
   ]
  },
  {
   "cell_type": "code",
   "execution_count": 2,
   "id": "351386c9-f266-422e-9e44-3ab2881abc95",
   "metadata": {},
   "outputs": [],
   "source": [
    "\n",
    "(x_train, y_train), (x_test, y_test) = keras.datasets.mnist.load_data(path=\"mnist.npz\", )\n"
   ]
  },
  {
   "cell_type": "markdown",
   "id": "f0dce7c4-80b2-4dbd-9110-67ac4803d0d0",
   "metadata": {
    "jp-MarkdownHeadingCollapsed": true
   },
   "source": [
    "# Keras Model"
   ]
  },
  {
   "cell_type": "code",
   "execution_count": 17,
   "id": "49f285a7-559f-4e66-99e1-cad0e5d0570e",
   "metadata": {},
   "outputs": [],
   "source": [
    "def get_flat_dataset(raw_x, raw_y):\n",
    "  raw_x = raw_x / 255\n",
    "  dataset = tf.data.Dataset.from_tensor_slices((raw_x.flatten().reshape(-1, 28*28), raw_y))\n",
    "  return dataset"
   ]
  },
  {
   "cell_type": "code",
   "execution_count": 19,
   "id": "91ae7f7b-769d-4a0e-a7ba-dd71b351dd20",
   "metadata": {},
   "outputs": [],
   "source": [
    "flat_train = get_flat_dataset(x_train, y_train)\n",
    "flat_test = get_flat_dataset(x_test, y_test)"
   ]
  },
  {
   "cell_type": "code",
   "execution_count": 20,
   "id": "6dcc22bd-b850-4ef5-9f0f-cff7824d5cfd",
   "metadata": {},
   "outputs": [],
   "source": [
    "inputs = keras.Input(shape=((28* 28,)))\n",
    "x = keras.layers.Dense(4)(inputs)\n",
    "x = keras.layers.Dense(8)(x)\n",
    "\n",
    "outputs = keras.layers.Dense(10, activation=\"softmax\")(x)\n",
    "model = keras.Model(inputs=inputs, outputs=outputs)"
   ]
  },
  {
   "cell_type": "code",
   "execution_count": 23,
   "id": "07472f05-409a-4e40-823d-b3620c04717f",
   "metadata": {},
   "outputs": [
    {
     "name": "stdout",
     "output_type": "stream",
     "text": [
      "Epoch 1/20\n",
      "\u001b[1m31/31\u001b[0m \u001b[32m━━━━━━━━━━━━━━━━━━━━\u001b[0m\u001b[37m\u001b[0m \u001b[1m2s\u001b[0m 22ms/step - accuracy: 0.2280 - loss: 2.1939 - val_accuracy: 0.4062 - val_loss: 1.8811\n",
      "Epoch 2/20\n",
      "\u001b[1m31/31\u001b[0m \u001b[32m━━━━━━━━━━━━━━━━━━━━\u001b[0m\u001b[37m\u001b[0m \u001b[1m1s\u001b[0m 18ms/step - accuracy: 0.4745 - loss: 1.7814 - val_accuracy: 0.4897 - val_loss: 1.6118\n",
      "Epoch 3/20\n",
      "\u001b[1m31/31\u001b[0m \u001b[32m━━━━━━━━━━━━━━━━━━━━\u001b[0m\u001b[37m\u001b[0m \u001b[1m0s\u001b[0m 15ms/step - accuracy: 0.5416 - loss: 1.5029 - val_accuracy: 0.5407 - val_loss: 1.4174\n",
      "Epoch 4/20\n",
      "\u001b[1m31/31\u001b[0m \u001b[32m━━━━━━━━━━━━━━━━━━━━\u001b[0m\u001b[37m\u001b[0m \u001b[1m1s\u001b[0m 16ms/step - accuracy: 0.5895 - loss: 1.2959 - val_accuracy: 0.5815 - val_loss: 1.2734\n",
      "Epoch 5/20\n",
      "\u001b[1m31/31\u001b[0m \u001b[32m━━━━━━━━━━━━━━━━━━━━\u001b[0m\u001b[37m\u001b[0m \u001b[1m0s\u001b[0m 15ms/step - accuracy: 0.6483 - loss: 1.1378 - val_accuracy: 0.6119 - val_loss: 1.1651\n",
      "Epoch 6/20\n",
      "\u001b[1m31/31\u001b[0m \u001b[32m━━━━━━━━━━━━━━━━━━━━\u001b[0m\u001b[37m\u001b[0m \u001b[1m0s\u001b[0m 16ms/step - accuracy: 0.6895 - loss: 1.0158 - val_accuracy: 0.6379 - val_loss: 1.0844\n",
      "Epoch 7/20\n",
      "\u001b[1m31/31\u001b[0m \u001b[32m━━━━━━━━━━━━━━━━━━━━\u001b[0m\u001b[37m\u001b[0m \u001b[1m1s\u001b[0m 17ms/step - accuracy: 0.7138 - loss: 0.9219 - val_accuracy: 0.6550 - val_loss: 1.0242\n",
      "Epoch 8/20\n",
      "\u001b[1m31/31\u001b[0m \u001b[32m━━━━━━━━━━━━━━━━━━━━\u001b[0m\u001b[37m\u001b[0m \u001b[1m1s\u001b[0m 16ms/step - accuracy: 0.7386 - loss: 0.8489 - val_accuracy: 0.6733 - val_loss: 0.9787\n",
      "Epoch 9/20\n",
      "\u001b[1m31/31\u001b[0m \u001b[32m━━━━━━━━━━━━━━━━━━━━\u001b[0m\u001b[37m\u001b[0m \u001b[1m0s\u001b[0m 15ms/step - accuracy: 0.7596 - loss: 0.7910 - val_accuracy: 0.6875 - val_loss: 0.9436\n",
      "Epoch 10/20\n",
      "\u001b[1m31/31\u001b[0m \u001b[32m━━━━━━━━━━━━━━━━━━━━\u001b[0m\u001b[37m\u001b[0m \u001b[1m0s\u001b[0m 15ms/step - accuracy: 0.7824 - loss: 0.7441 - val_accuracy: 0.6996 - val_loss: 0.9159\n",
      "Epoch 11/20\n",
      "\u001b[1m31/31\u001b[0m \u001b[32m━━━━━━━━━━━━━━━━━━━━\u001b[0m\u001b[37m\u001b[0m \u001b[1m0s\u001b[0m 16ms/step - accuracy: 0.7876 - loss: 0.7054 - val_accuracy: 0.7110 - val_loss: 0.8934\n",
      "Epoch 12/20\n",
      "\u001b[1m31/31\u001b[0m \u001b[32m━━━━━━━━━━━━━━━━━━━━\u001b[0m\u001b[37m\u001b[0m \u001b[1m1s\u001b[0m 19ms/step - accuracy: 0.8064 - loss: 0.6726 - val_accuracy: 0.7185 - val_loss: 0.8746\n",
      "Epoch 13/20\n",
      "\u001b[1m31/31\u001b[0m \u001b[32m━━━━━━━━━━━━━━━━━━━━\u001b[0m\u001b[37m\u001b[0m \u001b[1m0s\u001b[0m 15ms/step - accuracy: 0.8169 - loss: 0.6445 - val_accuracy: 0.7253 - val_loss: 0.8586\n",
      "Epoch 14/20\n",
      "\u001b[1m31/31\u001b[0m \u001b[32m━━━━━━━━━━━━━━━━━━━━\u001b[0m\u001b[37m\u001b[0m \u001b[1m1s\u001b[0m 17ms/step - accuracy: 0.8226 - loss: 0.6199 - val_accuracy: 0.7317 - val_loss: 0.8449\n",
      "Epoch 15/20\n",
      "\u001b[1m31/31\u001b[0m \u001b[32m━━━━━━━━━━━━━━━━━━━━\u001b[0m\u001b[37m\u001b[0m \u001b[1m0s\u001b[0m 16ms/step - accuracy: 0.8225 - loss: 0.5981 - val_accuracy: 0.7382 - val_loss: 0.8330\n",
      "Epoch 16/20\n",
      "\u001b[1m31/31\u001b[0m \u001b[32m━━━━━━━━━━━━━━━━━━━━\u001b[0m\u001b[37m\u001b[0m \u001b[1m1s\u001b[0m 17ms/step - accuracy: 0.8235 - loss: 0.5785 - val_accuracy: 0.7437 - val_loss: 0.8226\n",
      "Epoch 17/20\n",
      "\u001b[1m31/31\u001b[0m \u001b[32m━━━━━━━━━━━━━━━━━━━━\u001b[0m\u001b[37m\u001b[0m \u001b[1m0s\u001b[0m 15ms/step - accuracy: 0.8305 - loss: 0.5607 - val_accuracy: 0.7490 - val_loss: 0.8135\n",
      "Epoch 18/20\n",
      "\u001b[1m31/31\u001b[0m \u001b[32m━━━━━━━━━━━━━━━━━━━━\u001b[0m\u001b[37m\u001b[0m \u001b[1m1s\u001b[0m 18ms/step - accuracy: 0.8354 - loss: 0.5444 - val_accuracy: 0.7536 - val_loss: 0.8057\n",
      "Epoch 19/20\n",
      "\u001b[1m31/31\u001b[0m \u001b[32m━━━━━━━━━━━━━━━━━━━━\u001b[0m\u001b[37m\u001b[0m \u001b[1m1s\u001b[0m 24ms/step - accuracy: 0.8381 - loss: 0.5293 - val_accuracy: 0.7568 - val_loss: 0.7989\n",
      "Epoch 20/20\n",
      "\u001b[1m31/31\u001b[0m \u001b[32m━━━━━━━━━━━━━━━━━━━━\u001b[0m\u001b[37m\u001b[0m \u001b[1m1s\u001b[0m 19ms/step - accuracy: 0.8459 - loss: 0.5153 - val_accuracy: 0.7584 - val_loss: 0.7930\n"
     ]
    }
   ],
   "source": [
    "model.compile(loss=\"sparse_categorical_crossentropy\", #labels appear to be from one to ten so i think this the right loss\n",
    "              optimizer=\"rmsprop\",\n",
    "              metrics=['accuracy'])\n",
    "\n",
    "\n",
    "history = model.fit(flat_train.take(1000).batch(32, drop_remainder=True).prefetch(tf.data.AUTOTUNE), epochs=20,\n",
    "                      validation_data=(flat_test.batch(32, drop_remainder = True).prefetch(tf.data.AUTOTUNE)),\n",
    "                      )\n"
   ]
  },
  {
   "cell_type": "markdown",
   "id": "15195a7a-3eca-4ac0-9e93-feed0ec2e898",
   "metadata": {},
   "source": [
    "# My model\n"
   ]
  },
  {
   "cell_type": "code",
   "execution_count": 3,
   "id": "94737158-5594-4df6-9772-9e18910c36fe",
   "metadata": {},
   "outputs": [],
   "source": [
    "def batch(x, y, batch_size=32):\n",
    "    if len(x) % batch_size != 0:\n",
    "        x = x[:batch_size * (len(x)//batch_size)]\n",
    "        y=y[:batch_size*(len(x)//batch_size)]\n",
    "    return np.array_split(x, len(x) / batch_size, axis=0), np.array_split(y, len(y)/batch_size, axis=0)"
   ]
  },
  {
   "cell_type": "code",
   "execution_count": 4,
   "id": "704c2578-1d74-4e11-a6f2-fd20788c448c",
   "metadata": {},
   "outputs": [],
   "source": [
    "def fix_data(x, y):\n",
    "    x = x.reshape(x.shape[0], 28*28)/255\n",
    "    test = np.zeros((x.shape[0], 10))\n",
    "    test[np.arange(x.shape[0]),y] = 1\n",
    "    return (x, test)"
   ]
  },
  {
   "cell_type": "code",
   "execution_count": 20,
   "id": "b2c1717a-3ae5-4d42-b22c-8ca4a9adb08e",
   "metadata": {},
   "outputs": [
    {
     "name": "stdout",
     "output_type": "stream",
     "text": [
      "ERROR! Session/line number was not unique in database. History logging moved to new session 106\n"
     ]
    }
   ],
   "source": [
    "fixed_x, fixed_y = fix_data(x_train[:10000], y_train[:10000])\n",
    "b_x , b_y = batch(fixed_x, fixed_y, 1)"
   ]
  },
  {
   "cell_type": "code",
   "execution_count": 8,
   "id": "3f53baf5-de5a-464a-885c-3e23bf50c2ec",
   "metadata": {},
   "outputs": [],
   "source": [
    "test = np.arange(20).reshape(2,2,5)\n",
    "test2 = np.arange(20).reshape(2,2,5)"
   ]
  },
  {
   "cell_type": "code",
   "execution_count": 9,
   "id": "8eda765a-cc59-49a7-b8e2-c6ac717dc390",
   "metadata": {},
   "outputs": [
    {
     "name": "stdout",
     "output_type": "stream",
     "text": [
      "[[[  0   2   8  18  32]\n",
      "  [ 50  72  98 128 162]]\n",
      "\n",
      " [[200 242 288 338 392]\n",
      "  [450 512 578 648 722]]]\n"
     ]
    }
   ],
   "source": [
    "print(2 * test * test2)"
   ]
  },
  {
   "cell_type": "code",
   "execution_count": 10,
   "id": "247fec9d-d3f8-453f-b3d8-ede87691bb0d",
   "metadata": {},
   "outputs": [
    {
     "name": "stdout",
     "output_type": "stream",
     "text": [
      "190\n"
     ]
    }
   ],
   "source": [
    "print(np.sum(test))"
   ]
  },
  {
   "cell_type": "code",
   "execution_count": 21,
   "id": "ce493f0b-89b5-49e3-906e-089d8e370d5e",
   "metadata": {},
   "outputs": [
    {
     "name": "stdout",
     "output_type": "stream",
     "text": [
      "ERROR! Session/line number was not unique in database. History logging moved to new session 107\n",
      "mse Number(2.475584667078632)\n"
     ]
    },
    {
     "ename": "RecursionError",
     "evalue": "maximum recursion depth exceeded while calling a Python object",
     "output_type": "error",
     "traceback": [
      "\u001b[31m---------------------------------------------------------------------------\u001b[39m",
      "\u001b[31mRecursionError\u001b[39m                            Traceback (most recent call last)",
      "\u001b[36mCell\u001b[39m\u001b[36m \u001b[39m\u001b[32mIn[21]\u001b[39m\u001b[32m, line 3\u001b[39m\n\u001b[32m      1\u001b[39m my_model = Model(\u001b[32m28\u001b[39m*\u001b[32m28\u001b[39m, \u001b[32m10\u001b[39m, [\u001b[32m4\u001b[39m, \u001b[32m8\u001b[39m])\n\u001b[32m      2\u001b[39m \u001b[38;5;28;01mfor\u001b[39;00m _epoch \u001b[38;5;129;01min\u001b[39;00m \u001b[38;5;28mrange\u001b[39m(\u001b[32m20\u001b[39m):\n\u001b[32m----> \u001b[39m\u001b[32m3\u001b[39m     \u001b[43mmy_model\u001b[49m\u001b[43m.\u001b[49m\u001b[43mtrain_epoch\u001b[49m\u001b[43m(\u001b[49m\u001b[43mb_x\u001b[49m\u001b[43m,\u001b[49m\u001b[43m \u001b[49m\u001b[43mb_y\u001b[49m\u001b[43m,\u001b[49m\u001b[43m \u001b[49m\u001b[43mlr\u001b[49m\u001b[43m=\u001b[49m\u001b[32;43m10e-2\u001b[39;49m\u001b[43m)\u001b[49m\n",
      "\u001b[36mFile \u001b[39m\u001b[32m~\\Downloads\\scritch_scratch\\basics\\model.py:140\u001b[39m, in \u001b[36mModel.train_epoch\u001b[39m\u001b[34m(self, x, y, lr)\u001b[39m\n\u001b[32m    138\u001b[39m losses.append(mse)\n\u001b[32m    139\u001b[39m \u001b[38;5;28mprint\u001b[39m(\u001b[33m\"\u001b[39m\u001b[33mmse\u001b[39m\u001b[33m\"\u001b[39m, mse)\n\u001b[32m--> \u001b[39m\u001b[32m140\u001b[39m mse_sorted = \u001b[43mtopo_sort\u001b[49m\u001b[43m(\u001b[49m\u001b[43mmse\u001b[49m\u001b[43m)\u001b[49m\n\u001b[32m    141\u001b[39m \u001b[38;5;28mprint\u001b[39m(\u001b[33mf\u001b[39m\u001b[33m\"\u001b[39m\u001b[33morder \u001b[39m\u001b[38;5;132;01m{\u001b[39;00mmse_sorted\u001b[38;5;132;01m}\u001b[39;00m\u001b[33m\"\u001b[39m)\n\u001b[32m    143\u001b[39m \u001b[38;5;28mprint\u001b[39m(\u001b[33mf\u001b[39m\u001b[33m\"\u001b[39m\u001b[33msanity check on x \u001b[39m\u001b[38;5;132;01m{\u001b[39;00mpred[\u001b[32m0\u001b[39m][\u001b[32m0\u001b[39m].creator.a\u001b[38;5;132;01m}\u001b[39;00m\u001b[33m\"\u001b[39m) \u001b[38;5;66;03m#oh jeez this is not good. a.creator is None\u001b[39;00m\n",
      "\u001b[36mFile \u001b[39m\u001b[32m<string>:29\u001b[39m, in \u001b[36mtopo_sort\u001b[39m\u001b[34m(N)\u001b[39m\n",
      "\u001b[36mFile \u001b[39m\u001b[32m<string>:22\u001b[39m, in \u001b[36mdfs\u001b[39m\u001b[34m(number, debug)\u001b[39m\n",
      "\u001b[36mFile \u001b[39m\u001b[32m<string>:22\u001b[39m, in \u001b[36mdfs\u001b[39m\u001b[34m(number, debug)\u001b[39m\n",
      "    \u001b[31m[... skipping similar frames: dfs at line 22 (2966 times)]\u001b[39m\n",
      "\u001b[36mFile \u001b[39m\u001b[32m<string>:22\u001b[39m, in \u001b[36mdfs\u001b[39m\u001b[34m(number, debug)\u001b[39m\n",
      "\u001b[36mFile \u001b[39m\u001b[32m<string>:16\u001b[39m, in \u001b[36mdfs\u001b[39m\u001b[34m(number, debug)\u001b[39m\n",
      "\u001b[36mFile \u001b[39m\u001b[32m~\\Downloads\\scritch_scratch\\basics\\grad.py:338\u001b[39m, in \u001b[36mNumber.__hash__\u001b[39m\u001b[34m(self)\u001b[39m\n\u001b[32m    337\u001b[39m \u001b[38;5;28;01mdef\u001b[39;00m \u001b[34m__hash__\u001b[39m(\u001b[38;5;28mself\u001b[39m):\n\u001b[32m--> \u001b[39m\u001b[32m338\u001b[39m     \u001b[38;5;28;01mreturn\u001b[39;00m \u001b[38;5;28mid\u001b[39m(\u001b[38;5;28mself\u001b[39m)\n",
      "\u001b[31mRecursionError\u001b[39m: maximum recursion depth exceeded while calling a Python object"
     ]
    }
   ],
   "source": [
    "my_model = Model(28*28, 10, [4, 8])\n",
    "for _epoch in range(20):\n",
    "    my_model.train_epoch(b_x, b_y, lr=10e-2)"
   ]
  },
  {
   "cell_type": "code",
   "execution_count": 17,
   "id": "fab9d9b4-ffdd-49eb-a1fa-779c28d7d0df",
   "metadata": {},
   "outputs": [
    {
     "name": "stdout",
     "output_type": "stream",
     "text": [
      "[Number(6), Number(2), Number(3)]\n"
     ]
    }
   ],
   "source": [
    "#Holy debugging time\n",
    "def np_number(k):\n",
    "    return np.array([Number(i) for i in range(k)])\n",
    "test = np_number(20).reshape(4, 5)\n",
    "test2 = np_number(20).reshape(4, 5)\n",
    "\n",
    "a = test[0][3] * test2[0][2]\n",
    "print(topo_sort(a))"
   ]
  },
  {
   "cell_type": "code",
   "execution_count": 5,
   "id": "4e2109b7-045c-4c78-81c8-28d50859487a",
   "metadata": {},
   "outputs": [
    {
     "name": "stdout",
     "output_type": "stream",
     "text": [
      "True\n"
     ]
    },
    {
     "data": {
      "text/plain": [
       "Number(2)"
      ]
     },
     "execution_count": 5,
     "metadata": {},
     "output_type": "execute_result"
    }
   ],
   "source": [
    "a = Number(2)\n",
    "print(isinstance(a,  (Number, int, float, np.generic)))\n",
    "Number(1) * Number(2)"
   ]
  },
  {
   "cell_type": "markdown",
   "id": "dc638d15-c152-4eeb-b681-ac5271893489",
   "metadata": {},
   "source": [
    "# Comparison!"
   ]
  },
  {
   "cell_type": "code",
   "execution_count": 39,
   "id": "a97309a5-9154-456a-9da3-132c35f8f773",
   "metadata": {},
   "outputs": [
    {
     "name": "stdout",
     "output_type": "stream",
     "text": [
      "\u001b[1m1/1\u001b[0m \u001b[32m━━━━━━━━━━━━━━━━━━━━\u001b[0m\u001b[37m\u001b[0m \u001b[1m0s\u001b[0m 65ms/step\n",
      "\u001b[1m1/1\u001b[0m \u001b[32m━━━━━━━━━━━━━━━━━━━━\u001b[0m\u001b[37m\u001b[0m \u001b[1m0s\u001b[0m 45ms/step\n",
      "\u001b[1m1/1\u001b[0m \u001b[32m━━━━━━━━━━━━━━━━━━━━\u001b[0m\u001b[37m\u001b[0m \u001b[1m0s\u001b[0m 49ms/step\n",
      "\u001b[1m1/1\u001b[0m \u001b[32m━━━━━━━━━━━━━━━━━━━━\u001b[0m\u001b[37m\u001b[0m \u001b[1m0s\u001b[0m 48ms/step\n",
      "\u001b[1m1/1\u001b[0m \u001b[32m━━━━━━━━━━━━━━━━━━━━\u001b[0m\u001b[37m\u001b[0m \u001b[1m0s\u001b[0m 52ms/step\n",
      "\u001b[1m1/1\u001b[0m \u001b[32m━━━━━━━━━━━━━━━━━━━━\u001b[0m\u001b[37m\u001b[0m \u001b[1m0s\u001b[0m 51ms/step\n",
      "\u001b[1m1/1\u001b[0m \u001b[32m━━━━━━━━━━━━━━━━━━━━\u001b[0m\u001b[37m\u001b[0m \u001b[1m0s\u001b[0m 59ms/step\n",
      "\u001b[1m1/1\u001b[0m \u001b[32m━━━━━━━━━━━━━━━━━━━━\u001b[0m\u001b[37m\u001b[0m \u001b[1m0s\u001b[0m 51ms/step\n",
      "\u001b[1m1/1\u001b[0m \u001b[32m━━━━━━━━━━━━━━━━━━━━\u001b[0m\u001b[37m\u001b[0m \u001b[1m0s\u001b[0m 45ms/step\n",
      "\u001b[1m1/1\u001b[0m \u001b[32m━━━━━━━━━━━━━━━━━━━━\u001b[0m\u001b[37m\u001b[0m \u001b[1m0s\u001b[0m 90ms/step\n"
     ]
    },
    {
     "data": {
      "image/png": "[encoded data removed]",
      "text/plain": [
       "<Figure size 1000x700 with 10 Axes>"
      ]
     },
     "metadata": {},
     "output_type": "display_data"
    }
   ],
   "source": [
    "import matplotlib.pyplot as plt\n",
    "import numpy as np\n",
    "%matplotlib inline  \n",
    "\n",
    "fig = plt.figure(figsize=(10, 7))\n",
    "pic = 1\n",
    "for i, img in enumerate(x_test[:10]):\n",
    "  plt.subplot(2, 5, pic)\n",
    "  plt.axis('off')\n",
    "  predicted = my_model.fd(img.flat)\n",
    "  keras_pred = model.predict(img.reshape(1, 28*28))\n",
    "  plt.title(f\"T {y_test[i]} mine {np.argmax(predicted)} keras {np.argmax(keras_pred)} \")\n",
    "  plt.imshow(img)\n",
    "  pic+= 1\n",
    "plt.show()\n",
    "#60% acc. Considering this is from nearly scratch not terrible "
   ]
  },
  {
   "cell_type": "markdown",
   "id": "d0822416-65d9-41a6-85bc-4bf54d9ba9e0",
   "metadata": {},
   "source": [
    "# Reasons my model is kind of terrible and how to improve.\n",
    "1. Slow. Still not 100% sure where the computation comes from. (but ima guess backprop) To do: Go figure that out.\n",
    "2. Too little training data (This will be fixed with slow otherwise it would take days to train)\n",
    "3. No batching. Need to figure that out too. (and how backprop works with batching)\n",
    "4. No rmsprop. I don't even know where to start on that one.\n",
    "5. No validation data. Yet."
   ]
  },
  {
   "cell_type": "code",
   "execution_count": null,
   "id": "022b9bd2-232c-47f1-892d-5d8669feaf08",
   "metadata": {},
   "outputs": [],
   "source": []
  }
 ],
 "metadata": {
  "kernelspec": {
   "display_name": "Python 3 (ipykernel)",
   "language": "python",
   "name": "python3"
  },
  "language_info": {
   "codemirror_mode": {
    "name": "ipython",
    "version": 3
   },
   "file_extension": ".py",
   "mimetype": "text/x-python",
   "name": "python",
   "nbconvert_exporter": "python",
   "pygments_lexer": "ipython3",
   "version": "3.11.9"
  }
 },
 "nbformat": 4,
 "nbformat_minor": 5
}
