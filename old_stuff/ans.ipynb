{
 "cells": [
  {
   "cell_type": "code",
   "execution_count": null,
   "id": "f503cdaa-1f3e-4d24-bcef-134750f17a98",
   "metadata": {},
   "outputs": [],
   "source": [
    "import tensorflow as tf\n",
    "import keras\n",
    "%load_ext autoreload\n",
    "%autoreload 2\n",
    "from grad import *\n",
    "from model import *\n",
    "import numpy as np\n"
   ]
  },
  {
   "cell_type": "markdown",
   "id": "152c3953-e292-49e0-973c-c0fe35ff4440",
   "metadata": {
    "jp-MarkdownHeadingCollapsed": true
   },
   "source": [
    "# I check autograd libraries"
   ]
  },
  {
   "cell_type": "markdown",
   "id": "f12812d2-1064-4f11-b66e-41b205e1c056",
   "metadata": {},
   "source": [
    "#Holy debugging time\n",
    "def np_number(k):\n",
    "    return np.array([Number(i) for i in range(k)])\n",
    "m = Number(2)\n",
    "a = (Number(3) + m) * 2.1 - (Number(9) - m) / (Number(3) - 8 +4)\n",
    "print(topo_sort(a))\n",
    "print(old_sort(a))\n",
    "print(gpt_sort(a))"
   ]
  },
  {
   "cell_type": "code",
   "execution_count": null,
   "id": "f5aeff47-4eee-426d-8a46-b00a6004b9e1",
   "metadata": {},
   "outputs": [],
   "source": []
  },
  {
   "cell_type": "markdown",
   "id": "3b5119ee-c2e7-49a0-8cf1-4bb3e39e8f57",
   "metadata": {},
   "source": [
    "# data getting"
   ]
  },
  {
   "cell_type": "code",
   "execution_count": 2,
   "id": "351386c9-f266-422e-9e44-3ab2881abc95",
   "metadata": {},
   "outputs": [],
   "source": [
    "\n",
    "(x_train, y_train), (x_test, y_test) = keras.datasets.mnist.load_data(path=\"mnist.npz\", )\n",
    "indices = np.arange(len(x_train))\n",
    "np.random.shuffle(indices)\n",
    "x_train = x_train[indices]\n",
    "y_train = y_train[indices]"
   ]
  },
  {
   "cell_type": "markdown",
   "id": "f0dce7c4-80b2-4dbd-9110-67ac4803d0d0",
   "metadata": {
    "jp-MarkdownHeadingCollapsed": true
   },
   "source": [
    "# Keras Model"
   ]
  },
  {
   "cell_type": "code",
   "execution_count": null,
   "id": "49f285a7-559f-4e66-99e1-cad0e5d0570e",
   "metadata": {},
   "outputs": [],
   "source": [
    "def get_flat_dataset(raw_x, raw_y):\n",
    "  raw_x = raw_x / 255\n",
    "  dataset = tf.data.Dataset.from_tensor_slices((raw_x.flatten().reshape(-1, 28*28), raw_y))\n",
    "  return dataset"
   ]
  },
  {
   "cell_type": "code",
   "execution_count": null,
   "id": "91ae7f7b-769d-4a0e-a7ba-dd71b351dd20",
   "metadata": {},
   "outputs": [],
   "source": [
    "flat_train = get_flat_dataset(x_train[:500], y_train[:500])\n",
    "flat_test = get_flat_dataset(x_test[:500], y_test[:500])"
   ]
  },
  {
   "cell_type": "code",
   "execution_count": null,
   "id": "6dcc22bd-b850-4ef5-9f0f-cff7824d5cfd",
   "metadata": {},
   "outputs": [],
   "source": [
    "inputs = keras.Input(shape=((28* 28,)))\n",
    "x = keras.layers.Dense(4)(inputs)\n",
    "x = keras.layers.Dense(8)(x)\n",
    "\n",
    "outputs = keras.layers.Dense(10, activation=\"softmax\")(x)\n",
    "model = keras.Model(inputs=inputs, outputs=outputs)"
   ]
  },
  {
   "cell_type": "code",
   "execution_count": null,
   "id": "07472f05-409a-4e40-823d-b3620c04717f",
   "metadata": {
    "scrolled": true
   },
   "outputs": [],
   "source": [
    "model.compile(loss=\"sparse_categorical_crossentropy\", #labels appear to be from one to ten so i think this the right loss\n",
    "              optimizer=\"rmsprop\",\n",
    "              metrics=['accuracy'])\n",
    "\n",
    "\n",
    "history = model.fit(flat_train.take(1000).batch(4, drop_remainder=True).prefetch(tf.data.AUTOTUNE), epochs=20,\n",
    "                      validation_data=(flat_test.batch(4, drop_remainder = True).prefetch(tf.data.AUTOTUNE)),\n",
    "                      )\n"
   ]
  },
  {
   "cell_type": "markdown",
   "id": "15195a7a-3eca-4ac0-9e93-feed0ec2e898",
   "metadata": {},
   "source": [
    "# My model\n"
   ]
  },
  {
   "cell_type": "code",
   "execution_count": 3,
   "id": "94737158-5594-4df6-9772-9e18910c36fe",
   "metadata": {},
   "outputs": [],
   "source": [
    "def batch(x, y, batch_size=32):\n",
    "    if len(x) % batch_size != 0:\n",
    "        x = x[:batch_size * (len(x)//batch_size)]\n",
    "        y=y[:batch_size*(len(x)//batch_size)]\n",
    "    return np.array_split(x, len(x) / batch_size, axis=0), np.array_split(y, len(y)/batch_size, axis=0)"
   ]
  },
  {
   "cell_type": "code",
   "execution_count": 4,
   "id": "704c2578-1d74-4e11-a6f2-fd20788c448c",
   "metadata": {},
   "outputs": [],
   "source": [
    "def fix_data(x, y):\n",
    "    x = x.reshape(x.shape[0], 28*28)/255\n",
    "    test = np.zeros((x.shape[0], 10))\n",
    "    test[np.arange(x.shape[0]),y] = 1\n",
    "    return (x, test)"
   ]
  },
  {
   "cell_type": "code",
   "execution_count": null,
   "id": "b2c1717a-3ae5-4d42-b22c-8ca4a9adb08e",
   "metadata": {},
   "outputs": [],
   "source": [
    "fixed_x, fixed_y = fix_data(x_train[:500], y_train[:500])\n",
    "b_x , b_y = batch(fixed_x, fixed_y, 32)\n"
   ]
  },
  {
   "cell_type": "code",
   "execution_count": 8,
   "id": "dc1da83c",
   "metadata": {},
   "outputs": [
    {
     "name": "stdout",
     "output_type": "stream",
     "text": [
      "(4, 784)\n"
     ]
    }
   ],
   "source": [
    "\n",
    "test_bx = [b_x[0] for i in range(3)]\n",
    "test_by = [b_y[0] for i in range(3)] #Fun challenge: Can you overfit to this?\n",
    "\n",
    "my_model = Model(28*28, 10, [4, 8])\n",
    "datas = []\n",
    "for _epoch in range(10):\n",
    "    print(f\"starting epoch {_epoch}\")\n",
    "    datas.append(my_model.train_epoch(test_bx, test_by, lr=10e-1, timer=False, batch_timer=False))\n"
   ]
  },
  {
   "cell_type": "code",
   "execution_count": 6,
   "id": "ce493f0b-89b5-49e3-906e-089d8e370d5e",
   "metadata": {},
   "outputs": [
    {
     "ename": "OverflowError",
     "evalue": "(34, 'Result too large')",
     "output_type": "error",
     "traceback": [
      "\u001b[31m---------------------------------------------------------------------------\u001b[39m",
      "\u001b[31mOverflowError\u001b[39m                             Traceback (most recent call last)",
      "\u001b[36mCell\u001b[39m\u001b[36m \u001b[39m\u001b[32mIn[6]\u001b[39m\u001b[32m, line 4\u001b[39m\n\u001b[32m      2\u001b[39m datas = []\n\u001b[32m      3\u001b[39m \u001b[38;5;28;01mfor\u001b[39;00m _epoch \u001b[38;5;129;01min\u001b[39;00m \u001b[38;5;28mrange\u001b[39m(\u001b[32m10\u001b[39m):\n\u001b[32m----> \u001b[39m\u001b[32m4\u001b[39m     datas.append(\u001b[43mmy_model\u001b[49m\u001b[43m.\u001b[49m\u001b[43mtrain_epoch\u001b[49m\u001b[43m(\u001b[49m\u001b[43mb_x\u001b[49m\u001b[43m,\u001b[49m\u001b[43m \u001b[49m\u001b[43mb_y\u001b[49m\u001b[43m,\u001b[49m\u001b[43m \u001b[49m\u001b[43mlr\u001b[49m\u001b[43m=\u001b[49m\u001b[32;43m10e-1\u001b[39;49m\u001b[43m,\u001b[49m\u001b[43m \u001b[49m\u001b[43mtimer\u001b[49m\u001b[43m=\u001b[49m\u001b[38;5;28;43;01mTrue\u001b[39;49;00m\u001b[43m)\u001b[49m)\n",
      "\u001b[36mFile \u001b[39m\u001b[32mc:\\Users\\jseto\\Downloads\\scritch_scratch\\basics\\model.py:172\u001b[39m, in \u001b[36mModel.train_epoch\u001b[39m\u001b[34m(self, x, y, lr, timer)\u001b[39m\n\u001b[32m    170\u001b[39m weight_sizes = []\n\u001b[32m    171\u001b[39m \u001b[38;5;28;01mfor\u001b[39;00m i \u001b[38;5;129;01min\u001b[39;00m \u001b[38;5;28mrange\u001b[39m(\u001b[38;5;28mlen\u001b[39m(y)):\n\u001b[32m--> \u001b[39m\u001b[32m172\u001b[39m     pred = \u001b[38;5;28;43mself\u001b[39;49m\u001b[43m.\u001b[49m\u001b[43mfd\u001b[49m\u001b[43m(\u001b[49m\u001b[43mx\u001b[49m\u001b[43m[\u001b[49m\u001b[43mi\u001b[49m\u001b[43m]\u001b[49m\u001b[43m)\u001b[49m\n\u001b[32m    173\u001b[39m     \u001b[38;5;28;01mif\u001b[39;00m timer:\n\u001b[32m    174\u001b[39m         \u001b[38;5;28mprint\u001b[39m(\u001b[33mf\u001b[39m\u001b[33m\"\u001b[39m\u001b[33mElapsed time for fd pass: \u001b[39m\u001b[38;5;132;01m{\u001b[39;00m\u001b[38;5;250m \u001b[39mtime.perf_counter()\u001b[38;5;250m  \u001b[39m-\u001b[38;5;250m \u001b[39mstart_time\u001b[38;5;132;01m}\u001b[39;00m\u001b[33m seconds\u001b[39m\u001b[33m\"\u001b[39m)\n",
      "\u001b[36mFile \u001b[39m\u001b[32mc:\\Users\\jseto\\Downloads\\scritch_scratch\\basics\\model.py:153\u001b[39m, in \u001b[36mModel.fd\u001b[39m\u001b[34m(self, x)\u001b[39m\n\u001b[32m    151\u001b[39m         x = relu(x)\n\u001b[32m    152\u001b[39m     \u001b[38;5;28;01melse\u001b[39;00m:\n\u001b[32m--> \u001b[39m\u001b[32m153\u001b[39m         x = \u001b[43msigmoid\u001b[49m\u001b[43m(\u001b[49m\u001b[43mx\u001b[49m\u001b[43m)\u001b[49m \u001b[38;5;66;03m#Only sigmoid the last one.\u001b[39;00m\n\u001b[32m    154\u001b[39m     \u001b[38;5;28mself\u001b[39m.hidden_states_activation.append(x)\n\u001b[32m    156\u001b[39m \u001b[38;5;28;01mreturn\u001b[39;00m x\n",
      "\u001b[36mFile \u001b[39m\u001b[32mc:\\Users\\jseto\\Downloads\\scritch_scratch\\basics\\model.py:22\u001b[39m, in \u001b[36msigmoid\u001b[39m\u001b[34m(x)\u001b[39m\n\u001b[32m     21\u001b[39m \u001b[38;5;28;01mdef\u001b[39;00m \u001b[34msigmoid\u001b[39m(x):\n\u001b[32m---> \u001b[39m\u001b[32m22\u001b[39m     \u001b[38;5;28;01mreturn\u001b[39;00m \u001b[43mnp\u001b[49m\u001b[43m.\u001b[49m\u001b[43mvectorize\u001b[49m\u001b[43m(\u001b[49m\u001b[38;5;28;43;01mlambda\u001b[39;49;00m\u001b[43m \u001b[49m\u001b[43mx\u001b[49m\u001b[43m:\u001b[49m\u001b[43m \u001b[49m\u001b[32;43m1\u001b[39;49m\u001b[43m/\u001b[49m\u001b[43m(\u001b[49m\u001b[32;43m1\u001b[39;49m\u001b[43m+\u001b[49m\u001b[43mmath\u001b[49m\u001b[43m.\u001b[49m\u001b[43me\u001b[49m\u001b[43m*\u001b[49m\u001b[43m*\u001b[49m\u001b[43m-\u001b[49m\u001b[43mx\u001b[49m\u001b[43m)\u001b[49m\u001b[43m)\u001b[49m\u001b[43m(\u001b[49m\u001b[43mx\u001b[49m\u001b[43m)\u001b[49m\n",
      "\u001b[36mFile \u001b[39m\u001b[32mc:\\Users\\jseto\\AppData\\Local\\Programs\\Python\\Python311\\Lib\\site-packages\\numpy\\lib\\function_base.py:2372\u001b[39m, in \u001b[36mvectorize.__call__\u001b[39m\u001b[34m(self, *args, **kwargs)\u001b[39m\n\u001b[32m   2369\u001b[39m     \u001b[38;5;28mself\u001b[39m._init_stage_2(*args, **kwargs)\n\u001b[32m   2370\u001b[39m     \u001b[38;5;28;01mreturn\u001b[39;00m \u001b[38;5;28mself\u001b[39m\n\u001b[32m-> \u001b[39m\u001b[32m2372\u001b[39m \u001b[38;5;28;01mreturn\u001b[39;00m \u001b[38;5;28;43mself\u001b[39;49m\u001b[43m.\u001b[49m\u001b[43m_call_as_normal\u001b[49m\u001b[43m(\u001b[49m\u001b[43m*\u001b[49m\u001b[43margs\u001b[49m\u001b[43m,\u001b[49m\u001b[43m \u001b[49m\u001b[43m*\u001b[49m\u001b[43m*\u001b[49m\u001b[43mkwargs\u001b[49m\u001b[43m)\u001b[49m\n",
      "\u001b[36mFile \u001b[39m\u001b[32mc:\\Users\\jseto\\AppData\\Local\\Programs\\Python\\Python311\\Lib\\site-packages\\numpy\\lib\\function_base.py:2365\u001b[39m, in \u001b[36mvectorize._call_as_normal\u001b[39m\u001b[34m(self, *args, **kwargs)\u001b[39m\n\u001b[32m   2362\u001b[39m     vargs = [args[_i] \u001b[38;5;28;01mfor\u001b[39;00m _i \u001b[38;5;129;01min\u001b[39;00m inds]\n\u001b[32m   2363\u001b[39m     vargs.extend([kwargs[_n] \u001b[38;5;28;01mfor\u001b[39;00m _n \u001b[38;5;129;01min\u001b[39;00m names])\n\u001b[32m-> \u001b[39m\u001b[32m2365\u001b[39m \u001b[38;5;28;01mreturn\u001b[39;00m \u001b[38;5;28;43mself\u001b[39;49m\u001b[43m.\u001b[49m\u001b[43m_vectorize_call\u001b[49m\u001b[43m(\u001b[49m\u001b[43mfunc\u001b[49m\u001b[43m=\u001b[49m\u001b[43mfunc\u001b[49m\u001b[43m,\u001b[49m\u001b[43m \u001b[49m\u001b[43margs\u001b[49m\u001b[43m=\u001b[49m\u001b[43mvargs\u001b[49m\u001b[43m)\u001b[49m\n",
      "\u001b[36mFile \u001b[39m\u001b[32mc:\\Users\\jseto\\AppData\\Local\\Programs\\Python\\Python311\\Lib\\site-packages\\numpy\\lib\\function_base.py:2455\u001b[39m, in \u001b[36mvectorize._vectorize_call\u001b[39m\u001b[34m(self, func, args)\u001b[39m\n\u001b[32m   2452\u001b[39m \u001b[38;5;66;03m# Convert args to object arrays first\u001b[39;00m\n\u001b[32m   2453\u001b[39m inputs = [asanyarray(a, dtype=\u001b[38;5;28mobject\u001b[39m) \u001b[38;5;28;01mfor\u001b[39;00m a \u001b[38;5;129;01min\u001b[39;00m args]\n\u001b[32m-> \u001b[39m\u001b[32m2455\u001b[39m outputs = \u001b[43mufunc\u001b[49m\u001b[43m(\u001b[49m\u001b[43m*\u001b[49m\u001b[43minputs\u001b[49m\u001b[43m)\u001b[49m\n\u001b[32m   2457\u001b[39m \u001b[38;5;28;01mif\u001b[39;00m ufunc.nout == \u001b[32m1\u001b[39m:\n\u001b[32m   2458\u001b[39m     res = asanyarray(outputs, dtype=otypes[\u001b[32m0\u001b[39m])\n",
      "\u001b[36mFile \u001b[39m\u001b[32mc:\\Users\\jseto\\Downloads\\scritch_scratch\\basics\\model.py:22\u001b[39m, in \u001b[36msigmoid.<locals>.<lambda>\u001b[39m\u001b[34m(x)\u001b[39m\n\u001b[32m     21\u001b[39m \u001b[38;5;28;01mdef\u001b[39;00m \u001b[34msigmoid\u001b[39m(x):\n\u001b[32m---> \u001b[39m\u001b[32m22\u001b[39m     \u001b[38;5;28;01mreturn\u001b[39;00m np.vectorize(\u001b[38;5;28;01mlambda\u001b[39;00m x: \u001b[32m1\u001b[39m/(\u001b[32m1\u001b[39m+\u001b[43mmath\u001b[49m\u001b[43m.\u001b[49m\u001b[43me\u001b[49m\u001b[43m*\u001b[49m\u001b[43m*\u001b[49m\u001b[43m-\u001b[49m\u001b[43mx\u001b[49m))(x)\n",
      "\u001b[36mFile \u001b[39m\u001b[32mc:\\Users\\jseto\\Downloads\\scritch_scratch\\basics\\grad.py:276\u001b[39m, in \u001b[36mNumber.__rpow__\u001b[39m\u001b[34m(self, other)\u001b[39m\n\u001b[32m    275\u001b[39m \u001b[38;5;28;01mdef\u001b[39;00m \u001b[34m__rpow__\u001b[39m(\u001b[38;5;28mself\u001b[39m, other):\n\u001b[32m--> \u001b[39m\u001b[32m276\u001b[39m     \u001b[38;5;28;01mreturn\u001b[39;00m \u001b[38;5;28;43mself\u001b[39;49m\u001b[43m.\u001b[49m\u001b[43m_op\u001b[49m\u001b[43m(\u001b[49m\u001b[43mPower\u001b[49m\u001b[43m,\u001b[49m\u001b[43m \u001b[49m\u001b[43mother\u001b[49m\u001b[43m,\u001b[49m\u001b[43m \u001b[49m\u001b[38;5;28;43mself\u001b[39;49m\u001b[43m)\u001b[49m\n",
      "\u001b[36mFile \u001b[39m\u001b[32mc:\\Users\\jseto\\Downloads\\scritch_scratch\\basics\\grad.py:244\u001b[39m, in \u001b[36mNumber._op\u001b[39m\u001b[34m(Op, a, b)\u001b[39m\n\u001b[32m    240\u001b[39m \u001b[38;5;66;03m#Basically op is a class, and we make an istance of that class of f.\u001b[39;00m\n\u001b[32m    242\u001b[39m \u001b[38;5;250m\u001b[39m\u001b[33;03m\"\"\" Get the output of the operation's forward pass, which is an int or float.\u001b[39;00m\n\u001b[32m    243\u001b[39m \u001b[33;03m    Make it ans instance of `Number`, whose creator is f. Return this result.\"\"\"\u001b[39;00m\n\u001b[32m--> \u001b[39m\u001b[32m244\u001b[39m ans = Number(\u001b[43mf\u001b[49m\u001b[43m(\u001b[49m\u001b[43ma\u001b[49m\u001b[43m,\u001b[49m\u001b[43mb\u001b[49m\u001b[43m)\u001b[49m, creator=f)\n\u001b[32m    245\u001b[39m \u001b[38;5;28;01mreturn\u001b[39;00m ans\n",
      "\u001b[36mFile \u001b[39m\u001b[32mc:\\Users\\jseto\\Downloads\\scritch_scratch\\basics\\grad.py:171\u001b[39m, in \u001b[36mPower.__call__\u001b[39m\u001b[34m(self, a, b)\u001b[39m\n\u001b[32m    169\u001b[39m \u001b[38;5;28mself\u001b[39m.a = a\n\u001b[32m    170\u001b[39m \u001b[38;5;28mself\u001b[39m.b = b\n\u001b[32m--> \u001b[39m\u001b[32m171\u001b[39m \u001b[38;5;28;01mreturn\u001b[39;00m \u001b[43ma\u001b[49m\u001b[43m.\u001b[49m\u001b[43mdata\u001b[49m\u001b[43m \u001b[49m\u001b[43m*\u001b[49m\u001b[43m*\u001b[49m\u001b[43m \u001b[49m\u001b[43mb\u001b[49m\u001b[43m.\u001b[49m\u001b[43mdata\u001b[49m\n",
      "\u001b[31mOverflowError\u001b[39m: (34, 'Result too large')"
     ]
    }
   ],
   "source": [
    "my_model = Model(28*28, 10, [4, 8])\n",
    "datas = []\n",
    "for _epoch in range(10):\n",
    "    datas.append(my_model.train_epoch(b_x, b_y, lr=10e-1, timer=True))"
   ]
  },
  {
   "cell_type": "code",
   "execution_count": null,
   "id": "03f5a265-f1b7-41f6-b691-647a03b51f6d",
   "metadata": {},
   "outputs": [],
   "source": [
    "print(datas)"
   ]
  },
  {
   "cell_type": "code",
   "execution_count": null,
   "id": "4e2109b7-045c-4c78-81c8-28d50859487a",
   "metadata": {},
   "outputs": [],
   "source": [
    "a = Number(2)\n",
    "print(isinstance(a,  (Number, int, float, np.generic)))\n",
    "Number(1) * Number(2)"
   ]
  },
  {
   "cell_type": "code",
   "execution_count": null,
   "id": "76a1999c-ae86-49d5-adb1-67b914c5c8df",
   "metadata": {
    "scrolled": true
   },
   "outputs": [],
   "source": [
    "import matplotlib.pyplot as plt\n",
    "import numpy as np\n",
    "%matplotlib inline  \n",
    "\n",
    "fig = plt.figure(figsize=(10, 7))\n",
    "pic = 1\n",
    "for i, img in enumerate(x_test[:10]):\n",
    "  plt.subplot(2, 5, pic)\n",
    "  plt.axis('off')\n",
    "  predicted = my_model.fd(img.flat)\n",
    "  keras_pred = model.predict(img.reshape(1, 28*28))\n",
    "  plt.title(f\"T {y_test[i]} mine {np.argmax(predicted)} keras {np.argmax(keras_pred)} \")\n",
    "  plt.imshow(img)\n",
    "  pic+= 1\n",
    "plt.show()\n",
    "#60% acc. Considering this is from nearly scratch not terrible "
   ]
  },
  {
   "cell_type": "markdown",
   "id": "dc638d15-c152-4eeb-b681-ac5271893489",
   "metadata": {},
   "source": [
    "# Comparison!"
   ]
  },
  {
   "cell_type": "code",
   "execution_count": null,
   "id": "a97309a5-9154-456a-9da3-132c35f8f773",
   "metadata": {},
   "outputs": [],
   "source": [
    "import matplotlib.pyplot as plt\n",
    "import numpy as np\n",
    "%matplotlib inline  \n",
    "\n",
    "fig = plt.figure(figsize=(10, 7))\n",
    "pic = 1\n",
    "for i, img in enumerate(x_test[:10]):\n",
    "  plt.subplot(2, 5, pic)\n",
    "  plt.axis('off')\n",
    "  predicted = my_model.fd(img.flat)\n",
    "  keras_pred = model.predict(img.reshape(1, 28*28))\n",
    "  plt.title(f\"T {y_test[i]} mine {np.argmax(predicted)} keras {np.argmax(keras_pred)} \")\n",
    "  plt.imshow(img)\n",
    "  pic+= 1\n",
    "plt.show()\n",
    "#60% acc. Considering this is from nearly scratch not terrible "
   ]
  },
  {
   "cell_type": "markdown",
   "id": "d0822416-65d9-41a6-85bc-4bf54d9ba9e0",
   "metadata": {},
   "source": [
    "# Reasons my model is kind of terrible and how to improve.\n",
    "1. Slow. Still not 100% sure where the computation comes from. (but ima guess backprop) To do: Go figure that out.\n",
    "2. Too little training data (This will be fixed with slow otherwise it would take days to train)\n",
    "3. No batching. Need to figure that out too. (and how backprop works with batching)\n",
    "4. No rmsprop. I don't even know where to start on that one.\n",
    "5. No validation data. Yet.\n",
    "\n",
    "\n",
    "More notes:\n",
    "Log things you've changed. esp when theres a gazillion interlocking things, FIX ONE AT A TIME\n",
    "Have you tried "
   ]
  },
  {
   "cell_type": "code",
   "execution_count": null,
   "id": "022b9bd2-232c-47f1-892d-5d8669feaf08",
   "metadata": {},
   "outputs": [],
   "source": []
  }
 ],
 "metadata": {
  "kernelspec": {
   "display_name": "Python 3",
   "language": "python",
   "name": "python3"
  },
  "language_info": {
   "codemirror_mode": {
    "name": "ipython",
    "version": 3
   },
   "file_extension": ".py",
   "mimetype": "text/x-python",
   "name": "python",
   "nbconvert_exporter": "python",
   "pygments_lexer": "ipython3",
   "version": "3.11.9"
  }
 },
 "nbformat": 4,
 "nbformat_minor": 5
}
